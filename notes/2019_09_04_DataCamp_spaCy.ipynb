{
  "nbformat": 4,
  "nbformat_minor": 0,
  "metadata": {
    "colab": {
      "name": "2019-09-04 DataCamp spaCy.ipynb",
      "version": "0.3.2",
      "provenance": [],
      "collapsed_sections": [],
      "toc_visible": true,
      "include_colab_link": true
    },
    "kernelspec": {
      "name": "python3",
      "display_name": "Python 3"
    }
  },
  "cells": [
    {
      "cell_type": "markdown",
      "metadata": {
        "id": "view-in-github",
        "colab_type": "text"
      },
      "source": [
        "<a href=\"https://colab.research.google.com/github/Nov05/Learning-Portfolio/blob/master/notes/2019_09_04_DataCamp_spaCy.ipynb\" target=\"_parent\"><img src=\"https://colab.research.google.com/assets/colab-badge.svg\" alt=\"Open In Colab\"/></a>"
      ]
    },
    {
      "cell_type": "code",
      "metadata": {
        "id": "cOwvueWc2Ddy",
        "colab_type": "code",
        "outputId": "043283c6-7fc9-497d-90b6-78c26c42f815",
        "colab": {
          "base_uri": "https://localhost:8080/",
          "height": 52
        }
      },
      "source": [
        "# created by nov05 on 2019-09-04\n",
        "# /Learning-Portfolio\n",
        "# /notes\n",
        "!python --version\n",
        "import spacy\n",
        "print('spacy', spacy.__version__)"
      ],
      "execution_count": 0,
      "outputs": [
        {
          "output_type": "stream",
          "text": [
            "Python 3.6.8\n",
            "spacy 2.1.8\n"
          ],
          "name": "stdout"
        }
      ]
    },
    {
      "cell_type": "markdown",
      "metadata": {
        "id": "rJ2zpar4pDKo",
        "colab_type": "text"
      },
      "source": [
        "spaCy cheatsheet  \n",
        "http://datacamp-community-prod.s3.amazonaws.com/29aa28bf-570a-4965-8f54-d6a541ae4e06  "
      ]
    },
    {
      "cell_type": "markdown",
      "metadata": {
        "id": "cxp8P6BP9cTR",
        "colab_type": "text"
      },
      "source": [
        "# DataCamp"
      ]
    },
    {
      "cell_type": "markdown",
      "metadata": {
        "id": "tnRED6J512wu",
        "colab_type": "text"
      },
      "source": [
        "### Advanced NLP with spaCy  \n",
        "https://www.datacamp.com/courses/advanced-nlp-with-spacy   \n",
        "\n",
        "<br>\n",
        "\n",
        "**Note: There are 4 chapters of this course. And the 1st chapter is free.**  \n",
        "This is how one could practice in DataCamp after a piece of lecture video.   \n",
        "<img src=\"https://github.com/Nov05/pictures/blob/master/pic001/image.png?raw=true\">\n",
        "\n",
        "<img src='https://github.com/Nov05/pictures/blob/master/pic001/2019-09-05%2006_17_42-Ines%20Montani%20_%20DataCamp.png?raw=true'>"
      ]
    },
    {
      "cell_type": "markdown",
      "metadata": {
        "id": "OCPk4Ipx79E2",
        "colab_type": "text"
      },
      "source": [
        "### Course Outline  \n"
      ]
    },
    {
      "cell_type": "markdown",
      "metadata": {
        "id": "SUcuGO5U7fOG",
        "colab_type": "text"
      },
      "source": [
        "```\n",
        "===================================================\n",
        "1 Finding words, phrases, names and concepts\n",
        "===================================================\n",
        "\n",
        "This chapter will introduce you to the basics of text processing with spaCy. You'll learn about the data structures, how to work with statistical models, and how to use them to predict linguistic features in your text.\n",
        "\n",
        "Introduction to spaCy\n",
        "Getting Started\n",
        "Documents, spans and tokens\n",
        "Lexical attributes\n",
        "Statistical models\n",
        "Model packages\n",
        "Loading models\n",
        "Predicting linguistic annotations\n",
        "Predicting named entities in context\n",
        "Rule-based matching\n",
        "Using the Matcher\n",
        "Writing match patterns\n",
        "\n",
        "===================================================\n",
        "2 Large-scale data analysis with spaCy\n",
        "===================================================\n",
        "\n",
        "In this chapter, you'll use your new skills to extract specific information from large volumes of text. You'll learn how to make the most of spaCy's data structures, and how to effectively combine statistical and rule-based approaches for text analysis.\n",
        "\n",
        "Data Structures (1)\n",
        "Strings to hashes\n",
        "Vocab, hashes and lexemes\n",
        "Data Structures (2)\n",
        "Creating a Doc\n",
        "Docs, spans and entities from scratch\n",
        "Data structures best practices\n",
        "Word vectors and similarity\n",
        "Inspecting word vectors\n",
        "Comparing similarities\n",
        "Combining models and rules\n",
        "Debugging patterns (1)\n",
        "Debugging patterns (2)\n",
        "Efficient phrase matching\n",
        "Extracting countries and relationships\n",
        "\n",
        "===================================================\n",
        "3 Processing Pipelines\n",
        "===================================================\n",
        "\n",
        "This chapter will show you to everything you need to know about spaCy's processing pipeline. You'll learn what goes on under the hood when you process a text, how to write your own components and add them to the pipeline, and how to use custom attributes to add your own meta data to the documents, spans and tokens.\n",
        "\n",
        "Processing pipelines\n",
        "What happens when you call nlp?\n",
        "Inspecting the pipeline\n",
        "Custom pipeline components\n",
        "Use cases for custom components\n",
        "Simple components\n",
        "Complex components\n",
        "Extension attributes\n",
        "Setting extension attributes (1)\n",
        "Setting extension attributes (2)\n",
        "Entities and extensions\n",
        "Components with extensions\n",
        "Scaling and performance\n",
        "Processing streams\n",
        "Processing data with context\n",
        "Selective processing\n",
        "\n",
        "===================================================\n",
        "4 Training a neural network model\n",
        "===================================================\n",
        "\n",
        "In this chapter, you'll learn how to update spaCy's statistical models to customize them for your use case – for example, to predict a new entity type in online comments. You'll write your own training loop from scratch, and understand the basics of how training works, along with tips and tricks that can make your custom NLP projects more successful.\n",
        "\n",
        "Training and updating models\n",
        "Purpose of training\n",
        "Creating training data (1)\n",
        "Creating training data (2)\n",
        "The training loop\n",
        "Setting up the pipeline\n",
        "Building a training loop\n",
        "Exploring the model\n",
        "Training best practices\n",
        "Good data vs. bad data\n",
        "Training multiple labels\n",
        "Wrapping up\n",
        "```"
      ]
    },
    {
      "cell_type": "markdown",
      "metadata": {
        "id": "EYCJpDbt7AY8",
        "colab_type": "text"
      },
      "source": [
        "# Chapter 1: Finding words, phrases, names and concepts"
      ]
    },
    {
      "cell_type": "markdown",
      "metadata": {
        "id": "ZQiaz2aJ2nmv",
        "colab_type": "text"
      },
      "source": [
        "### Getting Started"
      ]
    },
    {
      "cell_type": "code",
      "metadata": {
        "id": "uXJ0pPbH1umQ",
        "colab_type": "code",
        "outputId": "774fc88e-759c-4af4-e18f-da2cf49ca091",
        "colab": {
          "base_uri": "https://localhost:8080/",
          "height": 35
        }
      },
      "source": [
        "# Import the English language class\n",
        "from spacy.lang.en import English\n",
        "\n",
        "# Create the nlp object\n",
        "nlp = English()\n",
        "\n",
        "# Process a text\n",
        "doc = nlp(\"This is a sentence.\")\n",
        "\n",
        "# Print the document text\n",
        "print(doc.text)"
      ],
      "execution_count": 0,
      "outputs": [
        {
          "output_type": "stream",
          "text": [
            "This is a sentence.\n"
          ],
          "name": "stdout"
        }
      ]
    },
    {
      "cell_type": "code",
      "metadata": {
        "id": "hZ5kyFDs2Thj",
        "colab_type": "code",
        "outputId": "6dee5970-1197-4b1d-b003-e31d3dc50814",
        "colab": {
          "base_uri": "https://localhost:8080/",
          "height": 35
        }
      },
      "source": [
        "# Import the German language class\n",
        "from spacy.lang.de import German\n",
        "\n",
        "# Create the nlp object\n",
        "nlp = German()\n",
        "\n",
        "# Process a text (this is German for: \"Kind regards!\")\n",
        "doc = nlp(\"Liebe Grüße!\")\n",
        "\n",
        "# Print the document text\n",
        "print(doc.text)"
      ],
      "execution_count": 0,
      "outputs": [
        {
          "output_type": "stream",
          "text": [
            "Liebe Grüße!\n"
          ],
          "name": "stdout"
        }
      ]
    },
    {
      "cell_type": "code",
      "metadata": {
        "id": "OB9vhNRz2lTQ",
        "colab_type": "code",
        "outputId": "ecc77f53-289b-4903-d42a-218d27380710",
        "colab": {
          "base_uri": "https://localhost:8080/",
          "height": 35
        }
      },
      "source": [
        "# Import the Spanish language class\n",
        "from spacy.lang.es import Spanish\n",
        "\n",
        "# Create the nlp object\n",
        "nlp = Spanish()\n",
        "\n",
        "# Process a text (this is Spanish for: \"How are you?\")\n",
        "doc = nlp(\"¿Cómo estás?\")\n",
        "\n",
        "# Print the document text\n",
        "print(doc.text)"
      ],
      "execution_count": 0,
      "outputs": [
        {
          "output_type": "stream",
          "text": [
            "¿Cómo estás?\n"
          ],
          "name": "stdout"
        }
      ]
    },
    {
      "cell_type": "markdown",
      "metadata": {
        "id": "qFqW690D3Ano",
        "colab_type": "text"
      },
      "source": [
        "### Documents, spans and tokens\n",
        "\n",
        "When you call nlp on a string, spaCy first tokenizes the text and creates a document object. In this exercise, you'll learn more about the Doc, as well as its views Token and Span."
      ]
    },
    {
      "cell_type": "code",
      "metadata": {
        "id": "uvDm1qFC3ABN",
        "colab_type": "code",
        "outputId": "23d538bb-9eda-4637-ad7d-eaf39c554130",
        "colab": {
          "base_uri": "https://localhost:8080/",
          "height": 35
        }
      },
      "source": [
        "# Import the English language class and create the nlp object\n",
        "from spacy.lang.en import English\n",
        "nlp = English()\n",
        "\n",
        "# Process the text\n",
        "doc = nlp(\"I like tree kangaroos and narwhals.\")\n",
        "\n",
        "# Select the first token\n",
        "first_token = doc[0]\n",
        "\n",
        "# Print the first token's text\n",
        "print(first_token.text)"
      ],
      "execution_count": 0,
      "outputs": [
        {
          "output_type": "stream",
          "text": [
            "I\n"
          ],
          "name": "stdout"
        }
      ]
    },
    {
      "cell_type": "code",
      "metadata": {
        "id": "QJRF2Z2d3RZM",
        "colab_type": "code",
        "outputId": "eab2ee2f-0a3f-4631-ddcd-24861b8d1fe4",
        "colab": {
          "base_uri": "https://localhost:8080/",
          "height": 52
        }
      },
      "source": [
        "# Import the English language class and create the nlp object\n",
        "from spacy.lang.en import English\n",
        "nlp = English()\n",
        "\n",
        "# Process the text\n",
        "doc = nlp(\"I like tree kangaroos and narwhals.\")\n",
        "\n",
        "# A slice of the Doc for \"tree kangaroos\"\n",
        "tree_kangaroos = doc[2:3]\n",
        "print(tree_kangaroos.text)\n",
        "\n",
        "# A slice of the Doc for \"tree kangaroos and narwhals\" (without the \".\")\n",
        "tree_kangaroos_and_narwhals = doc[2:-1]\n",
        "print(tree_kangaroos_and_narwhals.text)"
      ],
      "execution_count": 0,
      "outputs": [
        {
          "output_type": "stream",
          "text": [
            "tree\n",
            "tree kangaroos and narwhals\n"
          ],
          "name": "stdout"
        }
      ]
    },
    {
      "cell_type": "markdown",
      "metadata": {
        "id": "CCvU32gU5i_4",
        "colab_type": "text"
      },
      "source": [
        "### Lexical attributes\n",
        "\n",
        "In this example, you'll use spaCy's Doc and Token objects, and lexical attributes to find percentages in a text. You'll be looking for two subsequent tokens: a number and a percent sign. The English nlp object has already been created."
      ]
    },
    {
      "cell_type": "code",
      "metadata": {
        "id": "ZdRqRiLO5m9V",
        "colab_type": "code",
        "outputId": "af104e14-4707-43f8-c207-21d4faa9f949",
        "colab": {
          "base_uri": "https://localhost:8080/",
          "height": 52
        }
      },
      "source": [
        "# Process the text\n",
        "doc = nlp(\"In 1990, more than 60% of people in East Asia were in extreme poverty. Now less than 4% are.\")\n",
        "\n",
        "# Iterate over the tokens in the doc\n",
        "for token in doc:\n",
        "    # Check if the token resembles a number\n",
        "    if token.like_num:\n",
        "        # Get the next token in the document\n",
        "        next_token = doc[token.i + 1]\n",
        "        # Check if the next token's text equals '%'\n",
        "        if next_token.text == '%':\n",
        "            print('Percentage found:', token.text)"
      ],
      "execution_count": 0,
      "outputs": [
        {
          "output_type": "stream",
          "text": [
            "Percentage found: 60\n",
            "Percentage found: 4\n"
          ],
          "name": "stdout"
        }
      ]
    },
    {
      "cell_type": "markdown",
      "metadata": {
        "id": "Bh0UiDjF7DWK",
        "colab_type": "text"
      },
      "source": [
        "### Statistical models\n"
      ]
    },
    {
      "cell_type": "markdown",
      "metadata": {
        "id": "M6ggvBfYX6cu",
        "colab_type": "text"
      },
      "source": [
        "<img src=\"https://github.com/Nov05/pictures/blob/master/pic001/2019-09-04%2015_32_05-Statistical%20models%20_%20Python.png?raw=true\" width=\"500\">"
      ]
    },
    {
      "cell_type": "code",
      "metadata": {
        "id": "C31Wm7enA8Cz",
        "colab_type": "code",
        "outputId": "17bfec1c-5865-4fdc-8f05-0f96a0380a2a",
        "colab": {
          "base_uri": "https://localhost:8080/",
          "height": 52
        }
      },
      "source": [
        "print(spacy.explain('GPE'))\n",
        "print(spacy.explain('dobj'))"
      ],
      "execution_count": 0,
      "outputs": [
        {
          "output_type": "stream",
          "text": [
            "Countries, cities, states\n",
            "direct object\n"
          ],
          "name": "stdout"
        }
      ]
    },
    {
      "cell_type": "markdown",
      "metadata": {
        "id": "O1ySFfCWBhGn",
        "colab_type": "text"
      },
      "source": [
        "**Model packages**   \n",
        "\n",
        "What's not included in a model package that you can load into spaCy?\n",
        "\n",
        "**Possible Answers** \n",
        "\n",
        "A meta file including the language, pipeline and license.  \n",
        "Binary weights to make statistical predictions.  \n",
        "【The labelled data that the model was trained on.】<= choose this option  \n",
        "Strings of the model's vocabulary and their hashes.  "
      ]
    },
    {
      "cell_type": "markdown",
      "metadata": {
        "id": "w2Hghr2xCNFX",
        "colab_type": "text"
      },
      "source": [
        "### Loading models\n",
        "Let's start by loading a model. spacy is already imported."
      ]
    },
    {
      "cell_type": "code",
      "metadata": {
        "id": "kdA6JB2jCqt5",
        "colab_type": "code",
        "colab": {}
      },
      "source": [
        "# remember to restart the runtime \n",
        "# (do not 'Reset all runtimes'!)\n",
        "!python -m spacy download en_core_web_sm"
      ],
      "execution_count": 0,
      "outputs": []
    },
    {
      "cell_type": "code",
      "metadata": {
        "id": "Y-qg_OU3BgX6",
        "colab_type": "code",
        "outputId": "af80e24e-5291-4e82-96fb-e10927098063",
        "colab": {
          "base_uri": "https://localhost:8080/",
          "height": 35
        }
      },
      "source": [
        "# Load the 'en_core_web_sm' model – spaCy is already imported\n",
        "import spacy\n",
        "nlp = spacy.load('en_core_web_sm')\n",
        "\n",
        "text = \"It’s official: Apple is the first U.S. public company to reach a $1 trillion market value\"\n",
        "\n",
        "# Process the text\n",
        "doc = nlp(text)\n",
        "\n",
        "# Print the document text\n",
        "print(doc.text)"
      ],
      "execution_count": 0,
      "outputs": [
        {
          "output_type": "stream",
          "text": [
            "It’s official: Apple is the first U.S. public company to reach a $1 trillion market value\n"
          ],
          "name": "stdout"
        }
      ]
    },
    {
      "cell_type": "code",
      "metadata": {
        "id": "uoLawTIEC0d1",
        "colab_type": "code",
        "outputId": "553b4520-0050-487b-8c27-30a5a43bd862",
        "colab": {
          "base_uri": "https://localhost:8080/",
          "height": 248
        }
      },
      "source": [
        "# remember to restart the runtime \n",
        "# (do not 'Reset all runtimes'!)\n",
        "!python -m spacy download de_core_news_sm"
      ],
      "execution_count": 0,
      "outputs": [
        {
          "output_type": "stream",
          "text": [
            "Collecting de_core_news_sm==2.1.0 from https://github.com/explosion/spacy-models/releases/download/de_core_news_sm-2.1.0/de_core_news_sm-2.1.0.tar.gz#egg=de_core_news_sm==2.1.0\n",
            "\u001b[?25l  Downloading https://github.com/explosion/spacy-models/releases/download/de_core_news_sm-2.1.0/de_core_news_sm-2.1.0.tar.gz (11.1MB)\n",
            "\u001b[K     |████████████████████████████████| 11.1MB 4.1MB/s \n",
            "\u001b[?25hBuilding wheels for collected packages: de-core-news-sm\n",
            "  Building wheel for de-core-news-sm (setup.py) ... \u001b[?25l\u001b[?25hdone\n",
            "  Created wheel for de-core-news-sm: filename=de_core_news_sm-2.1.0-cp36-none-any.whl size=11073065 sha256=8e0fca202bb545061aa470242db85544860b789b9b2569e2bd95cf86aad6744b\n",
            "  Stored in directory: /tmp/pip-ephem-wheel-cache-k8xa6zqm/wheels/b4/8b/5e/d2ce5d2756ca95de22f50f68299708009a4aafda2aea79c4e4\n",
            "Successfully built de-core-news-sm\n",
            "Installing collected packages: de-core-news-sm\n",
            "Successfully installed de-core-news-sm-2.1.0\n",
            "\u001b[38;5;2m✔ Download and installation successful\u001b[0m\n",
            "You can now load the model via spacy.load('de_core_news_sm')\n"
          ],
          "name": "stdout"
        }
      ]
    },
    {
      "cell_type": "code",
      "metadata": {
        "id": "DKxp8VJnC_xa",
        "colab_type": "code",
        "outputId": "01efe92c-f0bf-46d2-bbc2-deebfddafa53",
        "colab": {
          "base_uri": "https://localhost:8080/",
          "height": 35
        }
      },
      "source": [
        "# Load the 'de_core_news_sm' model – spaCy is already imported\n",
        "import spacy\n",
        "nlp = spacy.load('de_core_news_sm')\n",
        "\n",
        "text = \"Als erstes Unternehmen der Börsengeschichte hat Apple einen Marktwert von einer Billion US-Dollar erreicht\"\n",
        "\n",
        "# Process the text\n",
        "doc = nlp(text)\n",
        "\n",
        "# Print the document text\n",
        "print(doc.text)"
      ],
      "execution_count": 0,
      "outputs": [
        {
          "output_type": "stream",
          "text": [
            "Als erstes Unternehmen der Börsengeschichte hat Apple einen Marktwert von einer Billion US-Dollar erreicht\n"
          ],
          "name": "stdout"
        }
      ]
    },
    {
      "cell_type": "markdown",
      "metadata": {
        "id": "OFwlLr80EQ_Q",
        "colab_type": "text"
      },
      "source": [
        "### Predicting linguistic annotations\n",
        "\n",
        "You'll now get to try one of spaCy's pre-trained model packages and see its predictions in action. Feel free to try it out on your own text! The small English model is already available as the variable nlp.\n",
        "\n",
        "To find out what a tag or label means, you can call spacy.explain in the IPython shell. For example: spacy.explain('PROPN') or spacy.explain('GPE')."
      ]
    },
    {
      "cell_type": "code",
      "metadata": {
        "id": "5qFo4rnREpeX",
        "colab_type": "code",
        "outputId": "d5606627-df4c-48fa-dd52-4b2dbd1232cd",
        "colab": {
          "base_uri": "https://localhost:8080/",
          "height": 351
        }
      },
      "source": [
        "text = \"It’s official: Apple is the first U.S. public company to reach a $1 trillion market value\"\n",
        "\n",
        "# Process the text\n",
        "doc = nlp(text)\n",
        "\n",
        "for token in doc:\n",
        "    # Get the token text, part-of-speech tag and dependency label\n",
        "    token_text = token.text\n",
        "    token_pos = token.pos_\n",
        "    token_dep = token.dep_\n",
        "    # This is for formatting only\n",
        "    print('{:<12}{:<10}{:<10}'.format(token_text, token_pos, token_dep))"
      ],
      "execution_count": 0,
      "outputs": [
        {
          "output_type": "stream",
          "text": [
            "It          PROPN     pnc       \n",
            "’s          PROPN     ROOT      \n",
            "official    VERB      mo        \n",
            ":           PUNCT     punct     \n",
            "Apple       PROPN     sb        \n",
            "is          X         mnr       \n",
            "the         X         pnc       \n",
            "first       X         pnc       \n",
            "U.S.        X         pnc       \n",
            "public      X         pnc       \n",
            "company     X         uc        \n",
            "to          X         uc        \n",
            "reach       X         uc        \n",
            "a           PROPN     uc        \n",
            "$           PROPN     subtok    \n",
            "1           NUM       nk        \n",
            "trillion    VERB      ROOT      \n",
            "market      X         mo        \n",
            "value       ADJ       mo        \n"
          ],
          "name": "stdout"
        }
      ]
    },
    {
      "cell_type": "code",
      "metadata": {
        "id": "Iod5wR45E5T1",
        "colab_type": "code",
        "outputId": "36b3e6fc-d48e-44e7-eaaa-86c926cc110c",
        "colab": {
          "base_uri": "https://localhost:8080/",
          "height": 52
        }
      },
      "source": [
        "text = \"It’s official: Apple is the first U.S. public company to reach a $1 trillion market value\"\n",
        "\n",
        "# Process the text\n",
        "doc = nlp(text)\n",
        "\n",
        "# Iterate over the predicted entities\n",
        "for ent in doc.ents:\n",
        "    # print the entity text and its label\n",
        "    print(ent.text, ent.label_)"
      ],
      "execution_count": 0,
      "outputs": [
        {
          "output_type": "stream",
          "text": [
            "It’s MISC\n",
            "Apple is the MISC\n"
          ],
          "name": "stdout"
        }
      ]
    },
    {
      "cell_type": "code",
      "metadata": {
        "id": "7NDYdKX_FJBy",
        "colab_type": "code",
        "outputId": "9b4b22db-baa4-42c4-cb6f-845f31fe084f",
        "colab": {
          "base_uri": "https://localhost:8080/",
          "height": 52
        }
      },
      "source": [
        "text = \"New iPhone X release date leaked as Apple reveals pre-orders by mistake\"\n",
        "\n",
        "# Process the text\n",
        "doc = nlp(text)\n",
        "\n",
        "# Iterate over the entities\n",
        "for ent in doc.ents:\n",
        "    # print the entity text and label\n",
        "    print(ent.text, ent.label_)"
      ],
      "execution_count": 0,
      "outputs": [
        {
          "output_type": "stream",
          "text": [
            "New iPhone X MISC\n",
            "Apple ORG\n"
          ],
          "name": "stdout"
        }
      ]
    },
    {
      "cell_type": "code",
      "metadata": {
        "id": "bXfz9XuKFUB-",
        "colab_type": "code",
        "outputId": "68603d3b-a3b9-412c-eee8-d8829efd2db1",
        "colab": {
          "base_uri": "https://localhost:8080/",
          "height": 35
        }
      },
      "source": [
        "spacy.explain('MISC')"
      ],
      "execution_count": 0,
      "outputs": [
        {
          "output_type": "execute_result",
          "data": {
            "text/plain": [
              "'Miscellaneous entities, e.g. events, nationalities, products or works of art'"
            ]
          },
          "metadata": {
            "tags": []
          },
          "execution_count": 7
        }
      ]
    },
    {
      "cell_type": "code",
      "metadata": {
        "id": "Zesaj3z2Fk6I",
        "colab_type": "code",
        "outputId": "aeb96e96-61d9-40ed-b7eb-c7948e9b6160",
        "colab": {
          "base_uri": "https://localhost:8080/",
          "height": 70
        }
      },
      "source": [
        "text = \"New iPhone X release date leaked as Apple reveals pre-orders by mistake\"\n",
        "\n",
        "# Process the text\n",
        "doc = nlp(text)\n",
        "\n",
        "# Iterate over the entities\n",
        "for ent in doc.ents:\n",
        "    # print the entity text and label\n",
        "    print(ent.text, ent.label_)\n",
        "\n",
        "# Get the span for \"iPhone X\"\n",
        "iphone_x = doc[1:3]\n",
        "\n",
        "# Print the span text\n",
        "print('Missing entity:', iphone_x.text)"
      ],
      "execution_count": 0,
      "outputs": [
        {
          "output_type": "stream",
          "text": [
            "New iPhone X MISC\n",
            "Apple ORG\n",
            "Missing entity: iPhone X\n"
          ],
          "name": "stdout"
        }
      ]
    },
    {
      "cell_type": "markdown",
      "metadata": {
        "id": "bdrM3VnSFUE-",
        "colab_type": "text"
      },
      "source": [
        "### Using the Matcher\n",
        "Let's try spaCy's rule-based Matcher. You'll be using the example from the previous exercise and write a pattern that can match the phrase \"iPhone X\" in the text. The nlp object and a processed doc are already available."
      ]
    },
    {
      "cell_type": "code",
      "metadata": {
        "id": "udGO9edXFqPJ",
        "colab_type": "code",
        "outputId": "9741834a-178f-4936-c4e9-6e57f4f5c8d5",
        "colab": {
          "base_uri": "https://localhost:8080/",
          "height": 35
        }
      },
      "source": [
        "import spacy\n",
        "nlp = spacy.load('en_core_web_sm')\n",
        "\n",
        "# Import the Matcher\n",
        "from spacy.matcher import Matcher\n",
        "\n",
        "# Initialize the Matcher with the shared vocabulary\n",
        "matcher = Matcher(nlp.vocab)\n",
        "\n",
        "# Create a pattern matching two tokens: \"iPhone\" and \"X\"\n",
        "pattern = [{'TEXT':'iPhone'}, {'TEXT':'X'}]\n",
        "\n",
        "# Add the pattern to the matcher\n",
        "matcher.add('IPHONE_X_PATTERN', None, pattern)\n",
        "\n",
        "text = \"New iPhone X release date leaked as Apple reveals pre-orders by mistake\"\n",
        "doc = nlp(text)\n",
        "\n",
        "# Use the matcher on the doc\n",
        "matches = matcher(doc)\n",
        "print('Matches:', [doc[start:end].text for match_id, start, end in matches])"
      ],
      "execution_count": 0,
      "outputs": [
        {
          "output_type": "stream",
          "text": [
            "Matches: ['iPhone X']\n"
          ],
          "name": "stdout"
        }
      ]
    },
    {
      "cell_type": "markdown",
      "metadata": {
        "id": "fRL8DXKHIi-9",
        "colab_type": "text"
      },
      "source": [
        "### Writing match patterns\n",
        "In this exercise, you'll practice writing more complex match patterns using different token attributes and operators. A matcher is already initialized and available as the variable matcher."
      ]
    },
    {
      "cell_type": "code",
      "metadata": {
        "id": "VZ9Ddql_JxpS",
        "colab_type": "code",
        "outputId": "fc6a2e7e-07ed-4ff4-c45b-6233b808d1ff",
        "colab": {
          "base_uri": "https://localhost:8080/",
          "height": 87
        }
      },
      "source": [
        "doc = nlp(\"After making the iOS update you won't notice a radical system-wide redesign: nothing like the aesthetic upheaval we got with iOS 7. Most of iOS 11's furniture remains the same as in iOS 10. But you will discover some tweaks once you delve a little deeper.\")\n",
        "\n",
        "# Write a pattern for full iOS versions (\"iOS 7\", \"iOS 11\", \"iOS 10\")\n",
        "pattern = [{'TEXT': 'iOS'}, \n",
        "           {'IS_DIGIT': True}]\n",
        "\n",
        "# Add the pattern to the matcher and apply the matcher to the doc\n",
        "matcher.add('IOS_VERSION_PATTERN', None, pattern)\n",
        "matches = matcher(doc)\n",
        "print('Total matches found:', len(matches))\n",
        "\n",
        "# Iterate over the matches and print the span text\n",
        "for match_id, start, end in matches:\n",
        "    print('Match found:', doc[start:end].text)"
      ],
      "execution_count": 0,
      "outputs": [
        {
          "output_type": "stream",
          "text": [
            "Total matches found: 3\n",
            "Match found: iOS 7\n",
            "Match found: iOS 11\n",
            "Match found: iOS 10\n"
          ],
          "name": "stdout"
        }
      ]
    },
    {
      "cell_type": "code",
      "metadata": {
        "id": "Fq0tPRNUNyKR",
        "colab_type": "code",
        "outputId": "5fb1c50f-d248-41f2-eb5f-7a3cd11c43f9",
        "colab": {
          "base_uri": "https://localhost:8080/",
          "height": 87
        }
      },
      "source": [
        "doc = nlp(\"i downloaded Fortnite on my laptop and can't open the game at all. Help? so when I was downloading Minecraft, I got the Windows version where it is the '.zip' folder and I used the default program to unpack it... do I also need to download Winzip?\")\n",
        "\n",
        "# Write a pattern that matches a form of \"download\" plus proper noun\n",
        "pattern = [{'LEMMA': 'download'}, \n",
        "           {'POS': 'PROPN'}]\n",
        "\n",
        "# Add the pattern to the matcher and apply the matcher to the doc\n",
        "matcher.add('DOWNLOAD_THINGS_PATTERN', None, pattern)\n",
        "matches = matcher(doc)\n",
        "print('Total matches found:', len(matches))\n",
        "\n",
        "# Iterate over the matches and print the span text\n",
        "for match_id, start, end in matches:\n",
        "    print('Match found:', doc[start:end].text)"
      ],
      "execution_count": 0,
      "outputs": [
        {
          "output_type": "stream",
          "text": [
            "Total matches found: 3\n",
            "Match found: downloaded Fortnite\n",
            "Match found: downloading Minecraft\n",
            "Match found: download Winzip\n"
          ],
          "name": "stdout"
        }
      ]
    },
    {
      "cell_type": "code",
      "metadata": {
        "id": "zmmSx5MnOfaj",
        "colab_type": "code",
        "outputId": "685eb2f8-f9b9-455b-ca1e-324607b566d2",
        "colab": {
          "base_uri": "https://localhost:8080/",
          "height": 123
        }
      },
      "source": [
        "doc = nlp(\"Features of the app include a beautiful design, smart search, automatic labels and optional voice responses.\")\n",
        "\n",
        "# Write a pattern for adjective plus one or two nouns\n",
        "pattern = [{'POS': 'ADJ'}, \n",
        "           {'POS': 'NOUN'}, \n",
        "           {'POS': 'NOUN', 'OP': '*'}]\n",
        "\n",
        "# Add the pattern to the matcher and apply the matcher to the doc\n",
        "matcher.add('ADJ_NOUN_PATTERN', None, pattern)\n",
        "matches = matcher(doc)\n",
        "print('Total matches found:', len(matches))\n",
        "\n",
        "# Iterate over the matches and print the span text\n",
        "for match_id, start, end in matches:\n",
        "    print('Match found:', doc[start:end].text)"
      ],
      "execution_count": 0,
      "outputs": [
        {
          "output_type": "stream",
          "text": [
            "Total matches found: 5\n",
            "Match found: beautiful design\n",
            "Match found: smart search\n",
            "Match found: automatic labels\n",
            "Match found: optional voice\n",
            "Match found: optional voice responses\n"
          ],
          "name": "stdout"
        }
      ]
    },
    {
      "cell_type": "code",
      "metadata": {
        "id": "oaHtKHKZQzc8",
        "colab_type": "code",
        "outputId": "905d4d2d-3b94-4d2c-d17b-218e1239149b",
        "colab": {
          "base_uri": "https://localhost:8080/",
          "height": 52
        }
      },
      "source": [
        "doc = nlp('cat PERSON')\n",
        "\n",
        "# Look up the hash for the word \"cat\"\n",
        "cat_hash = nlp.vocab.strings['cat']\n",
        "print(cat_hash)\n",
        "\n",
        "# Look up the cat_hash to get the string\n",
        "cat_string = nlp.vocab.strings[cat_hash]\n",
        "print(cat_string)"
      ],
      "execution_count": 0,
      "outputs": [
        {
          "output_type": "stream",
          "text": [
            "5439657043933447811\n",
            "cat\n"
          ],
          "name": "stdout"
        }
      ]
    },
    {
      "cell_type": "markdown",
      "metadata": {
        "id": "TORQJJyk7EFn",
        "colab_type": "text"
      },
      "source": [
        "# Chapter 2: Large-scale data analysis with spaCy"
      ]
    },
    {
      "cell_type": "markdown",
      "metadata": {
        "id": "AdORTV36RoF9",
        "colab_type": "text"
      },
      "source": [
        "### Vocab, hashes and lexemes\n",
        "\n",
        "Inside spaCy, objects communicate in hash\n",
        "\n",
        "<img src=\"https://github.com/Nov05/pictures/blob/master/pic001/2019-09-04%2021_29_03-Data%20Structures%20(1)%20_%20Python.png?raw=true\" width=700>  \n",
        "\n",
        "Why does this code throw an error?\n",
        "\n",
        "```\n",
        "from spacy.lang.en import English\n",
        "from spacy.lang.de import German\n",
        "\n",
        "# Create an English and German nlp object\n",
        "nlp = English()\n",
        "nlp_de = German()\n",
        "# Get the ID for the string 'Bowie'\n",
        "bowie_id = nlp.vocab.strings['Bowie']\n",
        "print(bowie_id)\n",
        "\n",
        "# Look up the ID for 'Bowie' in the vocab\n",
        "print(nlp_de.vocab.strings[bowie_id])\n",
        "```\n",
        "\n",
        "The English language class is already available as the nlp object.\n",
        "\n",
        "**Possible Answers**  \n",
        "\n",
        "【The string 'Bowie' isn't present in the German vocab, so the hash can't be resolved in the string store.】    \n",
        "'Bowie' is not a regular word in the English or German dictionary, so it can't be hashed.  \n",
        "nlp_de is not a valid name. The vocab can only be shared if the nlp objects have the same name.  "
      ]
    },
    {
      "cell_type": "markdown",
      "metadata": {
        "id": "ycajMSngov2c",
        "colab_type": "text"
      },
      "source": [
        "### Creating a Doc\n",
        "Let's create some Doc objects from scratch! The nlp object has already been created for you.\n",
        "\n",
        "By the way, if you haven't downloaded it already, check out the spaCy Cheat Sheet. It includes an overview of the most important concepts and methods and might come in handy if you ever need a quick refresher!"
      ]
    },
    {
      "cell_type": "code",
      "metadata": {
        "id": "AcOPa3dbSLck",
        "colab_type": "code",
        "outputId": "939172ba-c306-481b-ebe2-e3e02b6ec661",
        "colab": {
          "base_uri": "https://localhost:8080/",
          "height": 35
        }
      },
      "source": [
        "# Import the Doc class\n",
        "from spacy.tokens import Doc\n",
        "\n",
        "# Desired text: \"spaCy is cool!\"\n",
        "words = ['spaCy', 'is', 'cool', '!']\n",
        "spaces = [True, True, False, False]\n",
        "\n",
        "# Create a Doc from the words and spaces\n",
        "doc = Doc(nlp.vocab, words=words, spaces=spaces)\n",
        "print(doc.text)"
      ],
      "execution_count": 0,
      "outputs": [
        {
          "output_type": "stream",
          "text": [
            "spaCy is cool!\n"
          ],
          "name": "stdout"
        }
      ]
    },
    {
      "cell_type": "code",
      "metadata": {
        "id": "CT225Fsfv85x",
        "colab_type": "code",
        "outputId": "26edc96c-0b2d-4dd6-e72c-85957a879532",
        "colab": {
          "base_uri": "https://localhost:8080/",
          "height": 35
        }
      },
      "source": [
        "# Import the Doc class\n",
        "from spacy.tokens import Doc\n",
        "\n",
        "# Desired text: \"Go, get started!\"\n",
        "words = ['Go', ',', 'get', 'started', '!']\n",
        "spaces = [False, True, True, False, False]\n",
        "\n",
        "# Create a Doc from the words and spaces\n",
        "doc = Doc(nlp.vocab, words=words, spaces=spaces)\n",
        "print(doc.text)"
      ],
      "execution_count": 0,
      "outputs": [
        {
          "output_type": "stream",
          "text": [
            "Go, get started!\n"
          ],
          "name": "stdout"
        }
      ]
    },
    {
      "cell_type": "code",
      "metadata": {
        "id": "qk7mLsPYwstr",
        "colab_type": "code",
        "outputId": "6aba17db-6bd8-4b04-a099-025da3425c45",
        "colab": {
          "base_uri": "https://localhost:8080/",
          "height": 35
        }
      },
      "source": [
        "# Import the Doc class\n",
        "from spacy.tokens import Doc\n",
        "\n",
        "# Desired text: \"Oh, really?!\"\n",
        "words = ['Oh', ',', 'really', '?', '!']\n",
        "spaces = [False, True, False, False, False]\n",
        "\n",
        "# Create a Doc from the words and spaces\n",
        "doc = Doc(nlp.vocab, words=words, spaces=spaces)\n",
        "print(doc.text)"
      ],
      "execution_count": 0,
      "outputs": [
        {
          "output_type": "stream",
          "text": [
            "Oh, really?!\n"
          ],
          "name": "stdout"
        }
      ]
    },
    {
      "cell_type": "markdown",
      "metadata": {
        "id": "rJ8XJqPTwwcb",
        "colab_type": "text"
      },
      "source": [
        "### Docs, spans and entities from scratch\n",
        "\n",
        "In this exercise, you'll create the Doc and Span objects manually, and update the named entities – just like spaCy does behind the scenes. A shared nlp object has already been created."
      ]
    },
    {
      "cell_type": "code",
      "metadata": {
        "id": "DhxDh0AuyaHn",
        "colab_type": "code",
        "outputId": "bd7c280e-8be1-4fbc-c230-0b293343e3db",
        "colab": {
          "base_uri": "https://localhost:8080/",
          "height": 35
        }
      },
      "source": [
        "# Import the Doc and Span classes\n",
        "from spacy.tokens import Doc, Span\n",
        "\n",
        "words = ['I', 'like', 'David', 'Bowie']\n",
        "spaces = [True, True, True, False]\n",
        "\n",
        "# Create a doc from the words and spaces\n",
        "doc = Doc(nlp.vocab , words=words, spaces=spaces)\n",
        "print(doc.text)"
      ],
      "execution_count": 0,
      "outputs": [
        {
          "output_type": "stream",
          "text": [
            "I like David Bowie\n"
          ],
          "name": "stdout"
        }
      ]
    },
    {
      "cell_type": "code",
      "metadata": {
        "id": "Asr6j3dDzeG3",
        "colab_type": "code",
        "outputId": "81d1931c-1f4c-43d4-fa60-eada19b8d5d5",
        "colab": {
          "base_uri": "https://localhost:8080/",
          "height": 35
        }
      },
      "source": [
        "# Import the Doc and Span classes\n",
        "from spacy.tokens import Doc, Span\n",
        "\n",
        "# Create a doc from the words and spaces\n",
        "doc = Doc(nlp.vocab, \n",
        "          words=['I', 'like', 'David', 'Bowie'], \n",
        "          spaces=[True, True, True, False])\n",
        "\n",
        "# Create a span for \"David Bowie\" from the doc and assign it the label \"PERSON\"\n",
        "span = Span(doc, 2, 4, label=\"PERSON\")\n",
        "print(span.text, span.label_)"
      ],
      "execution_count": 0,
      "outputs": [
        {
          "output_type": "stream",
          "text": [
            "David Bowie PERSON\n"
          ],
          "name": "stdout"
        }
      ]
    },
    {
      "cell_type": "code",
      "metadata": {
        "id": "LSmZWGOkzxBY",
        "colab_type": "code",
        "outputId": "255fcaba-a5f0-4135-9bb9-669ef65e5166",
        "colab": {
          "base_uri": "https://localhost:8080/",
          "height": 35
        }
      },
      "source": [
        "# Import the Doc and Span classes\n",
        "from spacy.tokens import Doc, Span\n",
        "\n",
        "# Create a doc from the words and spaces\n",
        "doc = Doc(nlp.vocab, words=['I', 'like', 'David', 'Bowie'], spaces=[True, True, True, False])\n",
        "\n",
        "# Create a span for \"David Bowie\" from the doc and assign it the label \"PERSON\"\n",
        "span = Span(doc, 2, 4, label='PERSON')\n",
        "\n",
        "# Add the span to the doc's entities\n",
        "doc.ents = [span]\n",
        "\n",
        "# Print entities' text and labels\n",
        "print([(ent.text, ent.label_) for ent in doc.ents])"
      ],
      "execution_count": 0,
      "outputs": [
        {
          "output_type": "stream",
          "text": [
            "[('David Bowie', 'PERSON')]\n"
          ],
          "name": "stdout"
        }
      ]
    },
    {
      "cell_type": "markdown",
      "metadata": {
        "id": "JhAAHeiB0OoR",
        "colab_type": "text"
      },
      "source": [
        "### Data structures best practices\n",
        "\n",
        "The code in this example is trying to analyze a text and collect all proper nouns. If the token following the proper noun is a verb, it should also be extracted. A doc object has already been created.\n",
        "\n",
        "```\n",
        "# Get all tokens and part-of-speech tags\n",
        "pos_tags = [token.pos_ for token in doc]\n",
        "\n",
        "for index, pos in enumerate(pos_tags):\n",
        "    # Check if the current token is a proper noun\n",
        "    if pos == 'PROPN':\n",
        "        # Check if the next token is a verb\n",
        "        if pos_tags[index + 1] == 'VERB':\n",
        "            print('Found a verb after a proper noun!')\n",
        "```\n",
        "\n",
        "**Question**  \n",
        "Why is the code bad?\n",
        "\n",
        "**Possible Answers**  \n",
        "The tokens in the result should be converted back to Token objects. This will let you reuse them in spaCy.  \n",
        "【It only uses lists of strings instead of native token attributes. This is often less efficient, and can't express complex relationships.】     \n",
        "pos_ is the wrong attribute to use for extracting proper nouns. You should use tag_ and the 'NNP' and 'NNS' labels instead.   "
      ]
    },
    {
      "cell_type": "code",
      "metadata": {
        "id": "sWteaioU1vbv",
        "colab_type": "code",
        "outputId": "e301108e-7557-4fc2-8c56-9072ca4f0d39",
        "colab": {
          "base_uri": "https://localhost:8080/",
          "height": 52
        }
      },
      "source": [
        "# Get all tokens and part-of-speech tags\n",
        "doc = nlp(\"Berin is a nice city!\")\n",
        "for token in doc:\n",
        "    # Check if the current token is a proper noun\n",
        "    if token.pos_ == 'PROPN' and doc[token.i+1].pos_ == 'VERB':\n",
        "        print('Found a verb after a proper noun!')\n",
        "        print(token.text, doc[token.i+1].text)"
      ],
      "execution_count": 0,
      "outputs": [
        {
          "output_type": "stream",
          "text": [
            "Found a verb after a proper noun!\n",
            "Berin is\n"
          ],
          "name": "stdout"
        }
      ]
    },
    {
      "cell_type": "markdown",
      "metadata": {
        "id": "4qCvjwTV60G5",
        "colab_type": "text"
      },
      "source": [
        "### Word vectors and similarity\n",
        "\n",
        "<img src=\"https://github.com/Nov05/pictures/blob/master/pic001/2019-09-05%2000_24_14-Word%20vectors%20and%20similarity%20_%20Python.png?raw=true\" width=700>  \n",
        "\n",
        "<img src=\"https://github.com/Nov05/pictures/blob/master/pic001/2019-09-05%2000_26_06-Word%20vectors%20and%20similarity%20_%20Python.png?raw=true\" width=700>  \n",
        "\n",
        "<img src=\"https://github.com/Nov05/pictures/blob/master/pic001/2019-09-05%2000_33_32-Word%20vectors%20and%20similarity%20_%20Python.png?raw=true\" width=700>  \n"
      ]
    },
    {
      "cell_type": "markdown",
      "metadata": {
        "id": "8dxgPPxG-5Gn",
        "colab_type": "text"
      },
      "source": [
        "### Inspecting word vectors\n",
        "In this exercise, you'll use a larger English model, which includes around 20.000 word vectors. Because vectors take a little longer to load, we're using a slightly compressed version of it than the one you can download with spaCy. The model is already pre-installed, and spacy has already been imported for you."
      ]
    },
    {
      "cell_type": "code",
      "metadata": {
        "id": "9XtXg0xv9uxA",
        "colab_type": "code",
        "outputId": "02da2278-8931-4896-9374-06d3eb901399",
        "colab": {
          "base_uri": "https://localhost:8080/",
          "height": 248
        }
      },
      "source": [
        "# remember to restart runtime\n",
        "!python -m spacy download en_core_web_md"
      ],
      "execution_count": 0,
      "outputs": [
        {
          "output_type": "stream",
          "text": [
            "Collecting en_core_web_md==2.1.0 from https://github.com/explosion/spacy-models/releases/download/en_core_web_md-2.1.0/en_core_web_md-2.1.0.tar.gz#egg=en_core_web_md==2.1.0\n",
            "\u001b[?25l  Downloading https://github.com/explosion/spacy-models/releases/download/en_core_web_md-2.1.0/en_core_web_md-2.1.0.tar.gz (95.4MB)\n",
            "\u001b[K     |████████████████████████████████| 95.4MB 1.2MB/s \n",
            "\u001b[?25hBuilding wheels for collected packages: en-core-web-md\n",
            "  Building wheel for en-core-web-md (setup.py) ... \u001b[?25l\u001b[?25hdone\n",
            "  Created wheel for en-core-web-md: filename=en_core_web_md-2.1.0-cp36-none-any.whl size=97126237 sha256=024f00613452689714debf958e90e96878fa11981c89316304bf5bf4659b9494\n",
            "  Stored in directory: /tmp/pip-ephem-wheel-cache-eb0tcqt6/wheels/c1/2c/5f/fd7f3ec336bf97b0809c86264d2831c5dfb00fc2e239d1bb01\n",
            "Successfully built en-core-web-md\n",
            "Installing collected packages: en-core-web-md\n",
            "Successfully installed en-core-web-md-2.1.0\n",
            "\u001b[38;5;2m✔ Download and installation successful\u001b[0m\n",
            "You can now load the model via spacy.load('en_core_web_md')\n"
          ],
          "name": "stdout"
        }
      ]
    },
    {
      "cell_type": "code",
      "metadata": {
        "id": "S4cH6rt3702J",
        "colab_type": "code",
        "outputId": "149c8a21-efb1-4688-d352-5281de4184fd",
        "colab": {
          "base_uri": "https://localhost:8080/",
          "height": 897
        }
      },
      "source": [
        "import spacy\n",
        "\n",
        "# Load the en_core_web_md model\n",
        "nlp = spacy.load(\"en_core_web_md\")\n",
        "\n",
        "# Process a text\n",
        "doc = nlp(\"Two bananas in pyjamas\")\n",
        "\n",
        "# Get the vector for the token \"bananas\"\n",
        "bananas_vector = doc[1].vector\n",
        "print(bananas_vector)"
      ],
      "execution_count": 0,
      "outputs": [
        {
          "output_type": "stream",
          "text": [
            "[-2.2009e-01 -3.0322e-02 -7.9859e-02 -4.6279e-01 -3.8600e-01  3.6962e-01\n",
            " -7.7178e-01 -1.1529e-01  3.3601e-02  5.6573e-01 -2.4001e-01  4.1833e-01\n",
            "  1.5049e-01  3.5621e-01 -2.1508e-01 -4.2743e-01  8.1400e-02  3.3916e-01\n",
            "  2.1637e-01  1.4792e-01  4.5811e-01  2.0966e-01 -3.5706e-01  2.3800e-01\n",
            "  2.7971e-02 -8.4538e-01  4.1917e-01 -3.9181e-01  4.0434e-04 -1.0662e+00\n",
            "  1.4591e-01  1.4643e-03  5.1277e-01  2.6072e-01  8.3785e-02  3.0340e-01\n",
            "  1.8579e-01  5.9999e-02 -4.0270e-01  5.0888e-01 -1.1358e-01 -2.8854e-01\n",
            " -2.7068e-01  1.1017e-02 -2.2217e-01  6.9076e-01  3.6459e-02  3.0394e-01\n",
            "  5.6989e-02  2.2733e-01 -9.9473e-02  1.5165e-01  1.3540e-01 -2.4965e-01\n",
            "  9.8078e-01 -8.0492e-01  1.9326e-01  3.1128e-01  5.5390e-02 -4.2423e-01\n",
            " -1.4082e-02  1.2708e-01  1.8868e-01  5.9777e-02 -2.2215e-01 -8.3950e-01\n",
            "  9.1987e-02  1.0180e-01 -3.1299e-01  5.5083e-01 -3.0717e-01  4.4201e-01\n",
            "  1.2666e-01  3.7643e-01  3.2333e-01  9.5673e-02  2.5083e-01 -6.4049e-02\n",
            "  4.2143e-01 -1.9375e-01  3.8026e-01  7.0883e-03 -2.0371e-01  1.5402e-01\n",
            " -3.7877e-03 -2.9396e-01  9.6518e-01  2.0068e-01 -5.6572e-01 -2.2581e-01\n",
            "  3.2251e-01 -3.4634e-01  2.7064e-01 -2.0687e-01 -4.7229e-01  3.1704e-01\n",
            " -3.4665e-01 -2.5188e-01 -1.1201e-01 -3.3937e-01  3.1518e-01 -3.2221e-01\n",
            " -2.4530e-01 -7.1571e-02 -4.3971e-01 -1.2070e+00  3.3365e-01 -5.8208e-02\n",
            "  8.0899e-01  4.2335e-01  3.8678e-01 -6.0797e-01 -7.3760e-01 -2.0547e-01\n",
            " -1.7499e-01 -3.7842e-03  2.1930e-01 -5.2486e-02  3.4869e-01  4.3852e-01\n",
            " -3.4471e-01  2.8910e-01  7.2554e-02 -4.8625e-01 -3.8390e-01 -4.4760e-01\n",
            "  4.3278e-01 -2.7128e-03 -9.0067e-01 -3.0819e-02 -3.8630e-01 -8.0798e-02\n",
            " -1.6243e-01  2.8830e-01 -2.6349e-01  1.7628e-01  3.5958e-01  5.7672e-01\n",
            " -5.4624e-01  3.8555e-02 -2.0182e+00  3.2916e-01  3.4672e-01  1.5398e-01\n",
            " -4.3446e-01 -4.1428e-02 -6.9588e-02  5.1513e-01 -1.3489e-01 -5.7239e-02\n",
            "  4.9241e-01  1.8643e-01  3.8596e-01 -3.7329e-02 -5.4216e-01 -1.8152e-01\n",
            "  4.3110e-01 -4.6967e-01  6.6801e-02  5.0323e-01 -2.4059e-01  3.6742e-01\n",
            "  2.9300e-01 -8.7883e-02 -4.7940e-01 -4.3431e-02 -2.6137e-01 -6.2658e-01\n",
            "  1.1446e-01  2.7682e-01  3.4800e-01  5.0018e-01  1.4269e-01 -3.3545e-01\n",
            " -3.9712e-01 -3.3121e-01 -3.4434e-01 -4.1627e-01 -3.5707e-03 -6.2350e-01\n",
            "  3.7794e-01 -1.6765e-01 -4.1954e-01 -3.3134e-01  3.1232e-01 -3.9494e-01\n",
            " -4.6921e-03 -4.8884e-01 -2.2059e-02 -2.6174e-01  1.7937e-01  3.6628e-01\n",
            "  5.8971e-02 -3.5991e-01 -4.4393e-01 -1.1890e-01  3.3487e-01  3.6505e-02\n",
            " -3.2788e-01  3.3425e-01 -5.6361e-01 -1.1190e-01  5.3770e-01  2.0311e-01\n",
            "  1.5110e-01  1.0623e-02  3.3401e-01  4.6084e-01  5.6293e-01 -7.5432e-02\n",
            "  5.4813e-01  1.9395e-01 -2.6265e-01 -3.1699e-01 -8.1778e-01  5.8169e-02\n",
            " -5.7866e-02 -1.1781e-01 -5.8742e-02 -1.4092e-01 -9.9394e-01 -9.4532e-02\n",
            "  2.3503e-01 -4.9027e-01  8.5832e-01  1.1540e-01 -1.5049e-01  1.9065e-01\n",
            " -2.6705e-01  2.5326e-01 -6.7579e-01 -1.0633e-02 -5.5158e-02 -3.1004e-01\n",
            " -5.8036e-02 -1.7200e-01  1.3298e-01 -3.2899e-01 -7.5481e-02  2.9425e-02\n",
            " -3.2949e-01 -1.8691e-01 -9.5323e-01 -3.5468e-01 -3.3162e-01  5.6441e-02\n",
            "  2.1790e-02  1.7182e-01 -4.4267e-01  6.9765e-01 -2.6876e-01  1.1659e-01\n",
            " -1.6584e-01  3.8296e-01  2.9109e-01  3.6318e-01  3.6961e-01  1.6305e-01\n",
            "  1.8152e-01  2.2453e-01  3.9866e-02 -3.7607e-02 -3.6089e-01  7.0818e-02\n",
            " -2.1509e-01  3.6551e-01 -5.1603e-01 -5.8102e-03 -4.8320e-01 -2.5068e-01\n",
            " -5.2062e-02 -2.0828e-01  2.9060e-01  2.2084e-02 -6.8123e-01  4.2063e-01\n",
            "  9.5973e-02  8.1720e-01 -1.5241e-01  6.2994e-01  2.6449e-01 -1.3516e-01\n",
            "  3.2450e-01  3.0503e-01  1.2357e-01  1.5107e-01  2.8327e-01 -3.3838e-01\n",
            "  4.6106e-02 -1.2361e-01  1.4516e-01 -2.7947e-02  2.6231e-02 -5.9591e-01\n",
            " -4.4183e-01  7.8440e-01 -3.4375e-02 -1.3928e+00  3.5248e-01  6.5220e-01]\n"
          ],
          "name": "stdout"
        }
      ]
    },
    {
      "cell_type": "markdown",
      "metadata": {
        "id": "y8pxUAfT-yup",
        "colab_type": "text"
      },
      "source": [
        "### Comparing similarities\n",
        "In this exercise, you'll be using spaCy's similarity methods to compare Doc, Token and Span objects and get similarity scores. The medium English model is already available as the nlp object."
      ]
    },
    {
      "cell_type": "code",
      "metadata": {
        "id": "WYHUeHc8-ZzI",
        "colab_type": "code",
        "outputId": "c48d68f0-d67b-4b60-b988-e0e4cb9f24bb",
        "colab": {
          "base_uri": "https://localhost:8080/",
          "height": 35
        }
      },
      "source": [
        "doc1 = nlp(\"It's a warm summer day\")\n",
        "doc2 = nlp(\"It's sunny outside\")\n",
        "\n",
        "# Get the similarity of doc1 and doc2\n",
        "similarity = doc1.similarity(doc2)\n",
        "print(similarity)"
      ],
      "execution_count": 0,
      "outputs": [
        {
          "output_type": "stream",
          "text": [
            "0.8789265574516525\n"
          ],
          "name": "stdout"
        }
      ]
    },
    {
      "cell_type": "code",
      "metadata": {
        "id": "YO4zXEpa_1EM",
        "colab_type": "code",
        "outputId": "b96f8342-b8ad-4552-aa23-69dd37ad13b7",
        "colab": {
          "base_uri": "https://localhost:8080/",
          "height": 35
        }
      },
      "source": [
        "doc = nlp(\"TV and books\")\n",
        "token1, token2 = doc[0], doc[2]\n",
        "\n",
        "# Get the similarity of the tokens \"TV\" and \"books\" \n",
        "similarity = token1.similarity(token2)\n",
        "print(similarity)"
      ],
      "execution_count": 0,
      "outputs": [
        {
          "output_type": "stream",
          "text": [
            "0.22325331\n"
          ],
          "name": "stdout"
        }
      ]
    },
    {
      "cell_type": "code",
      "metadata": {
        "id": "Lnvvq9bA_3IH",
        "colab_type": "code",
        "outputId": "7904f352-9728-450c-b995-f4228d1753c8",
        "colab": {
          "base_uri": "https://localhost:8080/",
          "height": 52
        }
      },
      "source": [
        "doc = nlp(\"This was a great restaurant. Afterwards, we went to a really nice bar.\")\n",
        "\n",
        "# Create spans for \"great restaurant\" and \"really nice bar\"\n",
        "span1 = doc[3:5]\n",
        "span2 = doc[-4:-1]\n",
        "print(span1.text, span2.text)\n",
        "\n",
        "# Get the similarity of the spans\n",
        "similarity = span1.similarity(span2)\n",
        "print(similarity)"
      ],
      "execution_count": 0,
      "outputs": [
        {
          "output_type": "stream",
          "text": [
            "great restaurant really nice bar\n",
            "0.75173926\n"
          ],
          "name": "stdout"
        }
      ]
    },
    {
      "cell_type": "markdown",
      "metadata": {
        "id": "zLkkLu5ZCKI-",
        "colab_type": "text"
      },
      "source": [
        "### Combining models and rules\n",
        "\n",
        "<img src=\"https://github.com/Nov05/pictures/blob/master/pic001/2019-09-05%2001_00_33-Combining%20models%20and%20rules%20_%20Python.png?raw=true\" width=700>\n",
        "\n",
        "<img src=\"https://github.com/Nov05/pictures/blob/master/pic001/2019-09-05%2001_06_38-Combining%20models%20and%20rules%20_%20Python.png?raw=true\" width=700>  \n"
      ]
    },
    {
      "cell_type": "markdown",
      "metadata": {
        "id": "pY7phdJDJtMZ",
        "colab_type": "text"
      },
      "source": [
        "### Debugging patterns (1)\n",
        "Why does this pattern not match the tokens \"Silicon Valley\" in the doc?\n",
        "\n",
        "```\n",
        "pattern = [{'LOWER': 'silicon'}, {'TEXT': ' '}, {'LOWER': 'valley'}]\n",
        "doc = nlp(\"Can Silicon Valley workers rein in big tech from within?\")\n",
        "```\n",
        "\n",
        "You can try it out in your IPython shell. The matcher with the added pattern and the doc are already created.\n",
        "\n",
        "**Possible Answers**  \n",
        "The tokens \"Silicon\" and \"Valley\" are not lowercase, so the 'LOWER' attribute won't match.  \n",
        "【The tokenizer doesn't create tokens for single spaces, so there's no token with the value ' ' in between.】  \n",
        "The tokens are missing an operator 'OP' to indicate that they should be matched exactly once.  "
      ]
    },
    {
      "cell_type": "markdown",
      "metadata": {
        "id": "Lu8NhFlvKHYP",
        "colab_type": "text"
      },
      "source": [
        "### Debugging patterns (2)\n",
        "Both patterns in this exercise contain mistakes and won't match as expected. Can you fix them?\n",
        "\n",
        "The nlp and a doc have already been created for you. If you get stuck, try printing the tokens in the doc to see how the text will be split and adjust the pattern so that each dictionary represents one token.\n",
        "\n"
      ]
    },
    {
      "cell_type": "code",
      "metadata": {
        "id": "ZDAssS5VKePe",
        "colab_type": "code",
        "outputId": "64585cf6-d3f9-464b-81c0-140e67278b59",
        "colab": {
          "base_uri": "https://localhost:8080/",
          "height": 123
        }
      },
      "source": [
        "from spacy.matcher import Matcher\n",
        "\n",
        "text = \"Twitch Prime, the perks program for Amazon Prime members offering free loot, games and other benefits, is ditching one of its best features: ad-free viewing. According to an email sent out to Amazon Prime members today, ad-free viewing will no longer be included as a part of Twitch Prime for new members, beginning on September 14. However, members with existing annual subscriptions will be able to continue to enjoy ad-free viewing until their subscription comes up for renewal. Those with monthly subscriptions will have access to ad-free viewing until October 15.\"\n",
        "doc = nlp(text)\n",
        "\n",
        "# Create the match patterns\n",
        "pattern1 = [{'LOWER': 'amazon'}, {'IS_TITLE': True, 'POS': 'PROPN'}]\n",
        "pattern2 = [{'LOWER': 'ad'}, {'TEXT': '-'}, {'LOWER': 'free'}, {'POS': 'NOUN'}]\n",
        "\n",
        "# Initialize the Matcher and add the patterns\n",
        "matcher = Matcher(nlp.vocab)\n",
        "matcher.add('PATTERN1', None, pattern1)\n",
        "matcher.add('PATTERN2', None, pattern2)\n",
        "\n",
        "# Iterate over the matches\n",
        "for match_id, start, end in matcher(doc):\n",
        "    # Print pattern string name and text of matched span\n",
        "    print(doc.vocab.strings[match_id], doc[start:end].text)"
      ],
      "execution_count": 0,
      "outputs": [
        {
          "output_type": "stream",
          "text": [
            "PATTERN1 Amazon Prime\n",
            "PATTERN2 ad-free viewing\n",
            "PATTERN1 Amazon Prime\n",
            "PATTERN2 ad-free viewing\n",
            "PATTERN2 ad-free viewing\n",
            "PATTERN2 ad-free viewing\n"
          ],
          "name": "stdout"
        }
      ]
    },
    {
      "cell_type": "markdown",
      "metadata": {
        "id": "IKk_56goMUzi",
        "colab_type": "text"
      },
      "source": [
        "### Efficient phrase matching\n",
        "\n",
        "Sometimes it's more efficient to match exact strings instead of writing patterns describing the individual tokens. This is especially true for finite categories of things – like all countries of the world.\n",
        "\n",
        "We already have a list of countries, so let's use this as the basis of our information extraction script. A list of string names is available as the variable COUNTRIES. The nlp object and a test doc have already been created and the doc.text has been printed to the shell."
      ]
    },
    {
      "cell_type": "code",
      "metadata": {
        "id": "-n1Ch-BHMosi",
        "colab_type": "code",
        "outputId": "aa607fbe-26a3-4b3c-887f-f2111eb11ed7",
        "colab": {
          "base_uri": "https://localhost:8080/",
          "height": 35
        }
      },
      "source": [
        "text = \"Czech Republic may help Slovakia protect its airspace\"\n",
        "doc = nlp(text)\n",
        "\n",
        "COUNTRIES = ['Afghanistan', 'Åland Islands', 'Albania', \\\n",
        "             'Algeria', 'American Samoa', 'Andorra', \\\n",
        "             'Angola', 'Anguilla', 'Antarctica', \\\n",
        "             'Antigua and Barbuda', 'Argentina', 'Armenia', \\\n",
        "             'Aruba', 'Australia', 'Austria', 'Azerbaijan', \\\n",
        "             'Bahamas', 'Bahrain', 'Bangladesh', 'Barbados', \\\n",
        "             'Belarus', 'Belgium', 'Belize', 'Benin', 'Bermuda', \\\n",
        "             'Bhutan', 'Bolivia (Plurinational State of)', \\\n",
        "             'Bonaire, Sint Eustatius and Saba', \\\n",
        "             'Bosnia and Herzegovina', 'Botswana', \\\n",
        "             'Bouvet Island', 'Brazil', \\\n",
        "             'British Indian Ocean Territory', \\\n",
        "             'United States Minor Outlying Islands', 'Virgin Islands (British)', 'Virgin Islands (U.S.)', 'Brunei Darussalam', 'Bulgaria', 'Burkina Faso', 'Burundi', 'Cambodia', 'Cameroon', 'Canada', 'Cabo Verde', 'Cayman Islands', 'Central African Republic', 'Chad', 'Chile', 'China', 'Christmas Island', 'Cocos (Keeling) Islands', 'Colombia', 'Comoros', 'Congo', 'Congo (Democratic Republic of the)', 'Cook Islands', 'Costa Rica', 'Croatia', 'Cuba', 'Curaçao', 'Cyprus', 'Czech Republic', 'Denmark', 'Djibouti', 'Dominica', 'Dominican Republic', 'Ecuador', 'Egypt', 'El Salvador', 'Equatorial Guinea', 'Eritrea', 'Estonia', 'Ethiopia', 'Falkland Islands (Malvinas)', 'Faroe Islands', 'Fiji', 'Finland', 'France', 'French Guiana', 'French Polynesia', 'French Southern Territories', 'Gabon', 'Gambia', 'Georgia', 'Germany', 'Ghana', 'Gibraltar', 'Greece', 'Greenland', 'Grenada', 'Guadeloupe', 'Guam', 'Guatemala', 'Guernsey', 'Guinea', 'Guinea-Bissau', 'Guyana', 'Haiti', 'Heard Island and McDonald Islands', 'Holy See', 'Honduras', 'Hong Kong', 'Hungary', 'Iceland', 'India', 'Indonesia', \"Côte d'Ivoire\", 'Iran (Islamic Republic of)', 'Iraq', 'Ireland', 'Isle of Man', 'Israel', 'Italy', 'Jamaica', 'Japan', 'Jersey', 'Jordan', 'Kazakhstan', 'Kenya', 'Kiribati', 'Kuwait', 'Kyrgyzstan', \"Lao People's Democratic Republic\", 'Latvia', 'Lebanon', 'Lesotho', 'Liberia', 'Libya', 'Liechtenstein', 'Lithuania', 'Luxembourg', 'Macao', 'Macedonia (the former Yugoslav Republic of)', 'Madagascar', 'Malawi', 'Malaysia', 'Maldives', 'Mali', 'Malta', 'Marshall Islands', 'Martinique', 'Mauritania', 'Mauritius', 'Mayotte', 'Mexico', 'Micronesia (Federated States of)', 'Moldova (Republic of)', 'Monaco', 'Mongolia', 'Montenegro', 'Montserrat', 'Morocco', 'Mozambique', 'Myanmar', 'Namibia', 'Nauru', 'Nepal', 'Netherlands', 'New Caledonia', 'New Zealand', 'Nicaragua', 'Niger', 'Nigeria', 'Niue', 'Norfolk Island', \"Korea (Democratic People's Republic of)\", 'Northern Mariana Islands', 'Norway', 'Oman', 'Pakistan', 'Palau', 'Palestine, State of', 'Panama', 'Papua New Guinea', 'Paraguay', 'Peru', 'Philippines', 'Pitcairn', 'Poland', 'Portugal', 'Puerto Rico', 'Qatar', 'Republic of Kosovo', 'Réunion', 'Romania', 'Russian Federation', 'Rwanda', 'Saint Barthélemy', 'Saint Helena, Ascension and Tristan da Cunha', 'Saint Kitts and Nevis', 'Saint Lucia', 'Saint Martin (French part)', 'Saint Pierre and Miquelon', 'Saint Vincent and the Grenadines', 'Samoa', 'San Marino', 'Sao Tome and Principe', 'Saudi Arabia', 'Senegal', 'Serbia', 'Seychelles', 'Sierra Leone', 'Singapore', 'Sint Maarten (Dutch part)', 'Slovakia', 'Slovenia', 'Solomon Islands', 'Somalia', 'South Africa', 'South Georgia and the South Sandwich Islands', 'Korea (Republic of)', 'South Sudan', 'Spain', 'Sri Lanka', 'Sudan', 'Suriname', 'Svalbard and Jan Mayen', 'Swaziland', 'Sweden', 'Switzerland', 'Syrian Arab Republic', 'Taiwan', 'Tajikistan', 'Tanzania, United Republic of', 'Thailand', 'Timor-Leste', 'Togo', 'Tokelau', 'Tonga', 'Trinidad and Tobago', 'Tunisia', 'Turkey', 'Turkmenistan', 'Turks and Caicos Islands', 'Tuvalu', 'Uganda', 'Ukraine', 'United Arab Emirates', 'United Kingdom of Great Britain and Northern Ireland', 'United States of America', 'Uruguay', 'Uzbekistan', 'Vanuatu', 'Venezuela (Bolivarian Republic of)', 'Viet Nam', 'Wallis and Futuna', 'Western Sahara', 'Yemen', 'Zambia', 'Zimbabwe']\n",
        "# Import the PhraseMatcher and initialize it\n",
        "from spacy.matcher import PhraseMatcher\n",
        "matcher = PhraseMatcher(nlp.vocab)\n",
        "\n",
        "# Create pattern Doc objects and add them to the matcher\n",
        "# This is the faster version of: [nlp(country) for country in COUNTRIES]\n",
        "patterns = list(nlp.pipe(COUNTRIES))\n",
        "matcher.add('COUNTRY', None, *patterns)\n",
        "\n",
        "# Call the matcher on the test document and print the result\n",
        "matches = matcher(doc)\n",
        "print([doc[start:end] for match_id, start, end in matches])"
      ],
      "execution_count": 0,
      "outputs": [
        {
          "output_type": "stream",
          "text": [
            "[Czech Republic, Slovakia]\n"
          ],
          "name": "stdout"
        }
      ]
    },
    {
      "cell_type": "markdown",
      "metadata": {
        "id": "QCwXC70EOFi4",
        "colab_type": "text"
      },
      "source": [
        "### Extracting countries and relationships\n",
        "\n",
        "In the previous exercise, you wrote a script using spaCy's PhraseMatcher to find country names in text. Let's use that country matcher on a longer text, analyze the syntax and update the document's entities with the matched countries. The nlp object has already been created.\n",
        "\n",
        "The text is available as the variable text, the PhraseMatcher with the country patterns as the variable matcher. The Span class has already been imported.\n",
        "\n",
        "Iterate over the matches and create a Span with the label \"GPE\" (geopolitical entity).  \n",
        "\n",
        "Overwrite the entities in doc.ents and add the matched span."
      ]
    },
    {
      "cell_type": "markdown",
      "metadata": {
        "id": "6eaEnppLSGU5",
        "colab_type": "text"
      },
      "source": [
        " \n",
        "`ValueError: [E103] Trying to set conflicting doc.ents: '(79, 80, 'GPE')' and '(79, 80, 'GPE')'. A token can only be part of one entity, so make sure the entities you're setting don't overlap.`  \n",
        "\n",
        "`ValueError: [E103] Trying to set conflicting doc.ents: '(94, 97, 'ORG')' and '(96, 97, 'GPE')'.`\n",
        "\n",
        "https://github.com/explosion/spaCy/issues/2550  \n",
        "https://github.com/explosion/spaCy/issues/3608    "
      ]
    },
    {
      "cell_type": "code",
      "metadata": {
        "id": "Zoqii6w3bm91",
        "colab_type": "code",
        "colab": {}
      },
      "source": [
        "# remember to restart the runtime \n",
        "# (do not 'Reset all runtimes'!)\n",
        "!python -m spacy download en_core_web_sm"
      ],
      "execution_count": 0,
      "outputs": []
    },
    {
      "cell_type": "code",
      "metadata": {
        "id": "atv-pd6lTajJ",
        "colab_type": "code",
        "colab": {}
      },
      "source": [
        "import spacy\n",
        "from spacy.tokens import Span\n",
        "from spacy.matcher import PhraseMatcher\n",
        "\n",
        "# Load the en_core_web_md model\n",
        "nlp = spacy.load(\"en_core_web_sm\")\n",
        "\n",
        "COUNTRIES = ['Afghanistan', 'Åland Islands', 'Albania', \\\n",
        "             'Algeria', 'American Samoa', 'Andorra', \\\n",
        "             'Angola', 'Anguilla', 'Antarctica', \\\n",
        "             'Antigua and Barbuda', 'Argentina', 'Armenia', \\\n",
        "             'Aruba', 'Australia', 'Austria', 'Azerbaijan', \\\n",
        "             'Bahamas', 'Bahrain', 'Bangladesh', 'Barbados', \\\n",
        "             'Belarus', 'Belgium', 'Belize', 'Benin', 'Bermuda', \\\n",
        "             'Bhutan', 'Bolivia (Plurinational State of)', \\\n",
        "             'Bonaire, Sint Eustatius and Saba', \\\n",
        "             'Bosnia and Herzegovina', 'Botswana', \\\n",
        "             'Bouvet Island', 'Brazil', \\\n",
        "             'British Indian Ocean Territory', \\\n",
        "             'United States Minor Outlying Islands', 'Virgin Islands (British)', 'Virgin Islands (U.S.)', 'Brunei Darussalam', 'Bulgaria', 'Burkina Faso', 'Burundi', 'Cambodia', 'Cameroon', 'Canada', 'Cabo Verde', 'Cayman Islands', 'Central African Republic', 'Chad', 'Chile', 'China', 'Christmas Island', 'Cocos (Keeling) Islands', 'Colombia', 'Comoros', 'Congo', 'Congo (Democratic Republic of the)', 'Cook Islands', 'Costa Rica', 'Croatia', 'Cuba', 'Curaçao', 'Cyprus', 'Czech Republic', 'Denmark', 'Djibouti', 'Dominica', 'Dominican Republic', 'Ecuador', 'Egypt', 'El Salvador', 'Equatorial Guinea', 'Eritrea', 'Estonia', 'Ethiopia', 'Falkland Islands (Malvinas)', 'Faroe Islands', 'Fiji', 'Finland', 'France', 'French Guiana', 'French Polynesia', 'French Southern Territories', 'Gabon', 'Gambia', 'Georgia', 'Germany', 'Ghana', 'Gibraltar', 'Greece', 'Greenland', 'Grenada', 'Guadeloupe', 'Guam', 'Guatemala', 'Guernsey', 'Guinea', 'Guinea-Bissau', 'Guyana', 'Haiti', 'Heard Island and McDonald Islands', 'Holy See', 'Honduras', 'Hong Kong', 'Hungary', 'Iceland', 'India', 'Indonesia', \"Côte d'Ivoire\", 'Iran (Islamic Republic of)', 'Iraq', 'Ireland', 'Isle of Man', 'Israel', 'Italy', 'Jamaica', 'Japan', 'Jersey', 'Jordan', 'Kazakhstan', 'Kenya', 'Kiribati', 'Kuwait', 'Kyrgyzstan', \"Lao People's Democratic Republic\", 'Latvia', 'Lebanon', 'Lesotho', 'Liberia', 'Libya', 'Liechtenstein', 'Lithuania', 'Luxembourg', 'Macao', 'Macedonia (the former Yugoslav Republic of)', 'Madagascar', 'Malawi', 'Malaysia', 'Maldives', 'Mali', 'Malta', 'Marshall Islands', 'Martinique', 'Mauritania', 'Mauritius', 'Mayotte', 'Mexico', 'Micronesia (Federated States of)', 'Moldova (Republic of)', 'Monaco', 'Mongolia', 'Montenegro', 'Montserrat', 'Morocco', 'Mozambique', 'Myanmar', 'Namibia', 'Nauru', 'Nepal', 'Netherlands', 'New Caledonia', 'New Zealand', 'Nicaragua', 'Niger', 'Nigeria', 'Niue', 'Norfolk Island', \"Korea (Democratic People's Republic of)\", 'Northern Mariana Islands', 'Norway', 'Oman', 'Pakistan', 'Palau', 'Palestine, State of', 'Panama', 'Papua New Guinea', 'Paraguay', 'Peru', 'Philippines', 'Pitcairn', 'Poland', 'Portugal', 'Puerto Rico', 'Qatar', 'Republic of Kosovo', 'Réunion', 'Romania', 'Russian Federation', 'Rwanda', 'Saint Barthélemy', 'Saint Helena, Ascension and Tristan da Cunha', 'Saint Kitts and Nevis', 'Saint Lucia', 'Saint Martin (French part)', 'Saint Pierre and Miquelon', 'Saint Vincent and the Grenadines', 'Samoa', 'San Marino', 'Sao Tome and Principe', 'Saudi Arabia', 'Senegal', 'Serbia', 'Seychelles', 'Sierra Leone', 'Singapore', 'Sint Maarten (Dutch part)', 'Slovakia', 'Slovenia', 'Solomon Islands', 'Somalia', 'South Africa', 'South Georgia and the South Sandwich Islands', 'Korea (Republic of)', 'South Sudan', 'Spain', 'Sri Lanka', 'Sudan', 'Suriname', 'Svalbard and Jan Mayen', 'Swaziland', 'Sweden', 'Switzerland', 'Syrian Arab Republic', 'Taiwan', 'Tajikistan', 'Tanzania, United Republic of', 'Thailand', 'Timor-Leste', 'Togo', 'Tokelau', 'Tonga', 'Trinidad and Tobago', 'Tunisia', 'Turkey', 'Turkmenistan', 'Turks and Caicos Islands', 'Tuvalu', 'Uganda', 'Ukraine', 'United Arab Emirates', 'United Kingdom of Great Britain and Northern Ireland', 'United States of America', 'Uruguay', 'Uzbekistan', 'Vanuatu', 'Venezuela (Bolivarian Republic of)', 'Viet Nam', 'Wallis and Futuna', 'Western Sahara', 'Yemen', 'Zambia', 'Zimbabwe']\n",
        "\n",
        "text = '''After the Cold War, the UN saw a radical expansion \n",
        "in its peacekeeping duties, taking on more missions in ten years \n",
        "than it had in the previous four decades.Between 1988 and 2000, \n",
        "the number of adopted Security Council resolutions more than doubled, \n",
        "and the peacekeeping budget increased more than tenfold. The UN \n",
        "negotiated an end to the Salvadoran Civil War, launched a successful \n",
        "peacekeeping mission in Namibia, and oversaw democratic elections in \n",
        "post-apartheid South Africa and post-Khmer Rouge Cambodia. In 1991, \n",
        "the UN authorized a US-led coalition that repulsed the Iraqi invasion \n",
        "of Kuwait. Brian Urquhart, Under-Secretary-General from 1971 to 1985, \n",
        "later described the hopes raised by these successes as a \"false renaissance\" \n",
        "for the organization, given the more troubled missions that followed. \n",
        "Though the UN Charter had been written primarily to prevent aggression \n",
        "by one nation against another, in the early 1990s the UN faced a number \n",
        "of simultaneous, serious crises within nations such as Somalia, Haiti, \n",
        "Mozambique, and the former Yugoslavia. The UN mission in Somalia was widely \n",
        "viewed as a failure after the US withdrawal following casualties in the \n",
        "Battle of Mogadishu, and the UN mission to Bosnia faced \"worldwide ridicule\" \n",
        "for its indecisive and confused mission in the face of ethnic cleansing. \n",
        "In 1994, the UN Assistance Mission for Rwanda failed to intervene in the \n",
        "Rwandan genocide amid indecision in the Security Council. Beginning in the \n",
        "last decades of the Cold War, American and European critics of the UN \n",
        "condemned the organization for perceived mismanagement and corruption. \n",
        "In 1984, the US President, Ronald Reagan, withdrew his nation's funding \n",
        "from UNESCO (the United Nations Educational, Scientific and Cultural Organization, founded 1946) over allegations of mismanagement, followed by Britain and Singapore. Boutros Boutros-Ghali, Secretary-General from 1992 to 1996, initiated a reform of the Secretariat, reducing the size of the organization somewhat. His successor, Kofi Annan (1997–2006), initiated further management reforms in the face of threats from the United States to withhold its UN dues. In the late 1990s and 2000s, international interventions authorized by the UN took a wider variety of forms. The UN mission in the Sierra Leone Civil War of 1991–2002 was supplemented by British Royal Marines, and the invasion of Afghanistan in 2001 was overseen by NATO. In 2003, the United States invaded Iraq despite failing to pass a UN Security Council resolution for authorization, prompting a new round of questioning of the organization's effectiveness. Under the eighth Secretary-General, Ban Ki-moon, the UN has intervened with peacekeepers in crises including the War in Darfur in Sudan and the Kivu conflict in the Democratic Republic of Congo and sent observers and chemical weapons inspectors to the Syrian Civil War. In 2013, an internal review of UN actions in the final battles of the Sri Lankan Civil War in 2009 concluded that the organization had suffered \"systemic failure\". One hundred and one UN personnel died in the 2010 Haiti earthquake, the worst loss of life in the organization's history. The Millennium Summit was held in 2000 to discuss the UN's role in the 21st century. The three day meeting was the largest gathering of world leaders in history, and culminated in the adoption by all member states of the Millennium Development Goals (MDGs), a commitment to achieve international development in areas such as poverty reduction, gender equality, and public health. Progress towards these goals, which were to be met by 2015, was ultimately uneven. The 2005 World Summit reaffirmed the UN's focus on promoting development, peacekeeping, human rights, and global security. The Sustainable Development Goals were launched in 2015 to succeed the Millennium Development Goals. In addition to addressing global challenges, the UN has sought to improve its accountability and democratic legitimacy by engaging more with civil society and fostering a global constituency. In an effort to enhance transparency, in 2016 the organization held its first public debate between candidates for Secretary-General. On 1 January 2017, Portuguese diplomat António Guterres, who previously served as UN High Commissioner for Refugees, became the ninth Secretary-General. Guterres has highlighted several key goals for his administration, including an emphasis on diplomacy for preventing conflicts, more effective peacekeeping efforts, and streamlining the organization to be more responsive and versatile to global needs.\n",
        "'''"
      ],
      "execution_count": 0,
      "outputs": []
    },
    {
      "cell_type": "code",
      "metadata": {
        "id": "R5XUgyrjORUL",
        "colab_type": "code",
        "outputId": "8ef0090d-837d-4b0b-cfbe-f2ba92467551",
        "colab": {
          "base_uri": "https://localhost:8080/",
          "height": 125
        }
      },
      "source": [
        "# Create a doc and find matches in it\n",
        "\n",
        "nlp = spacy.load(\"en_core_web_sm\")\n",
        "doc = nlp(text)\n",
        "\n",
        "matcher = PhraseMatcher(nlp.vocab)\n",
        "# Create pattern Doc objects and add them to the matcher\n",
        "# This is the faster version of: [nlp(country) for country in COUNTRIES]\n",
        "patterns = list(nlp.pipe(COUNTRIES))\n",
        "matcher.add('COUNTRY', None, *patterns)\n",
        "print(patterns)\n",
        "\n",
        "doc.ents = []\n",
        "# Iterate over the matches\n",
        "for match_id, start, end in matcher(doc):\n",
        "    # Create a Span with the label for \"GPE\"\n",
        "    span = Span(doc, start, end, label=\"GPE\")\n",
        "    # Overwrite the doc.ents and add the span\n",
        "    doc.ents = list(doc.ents) + [span]\n",
        "\n",
        "# Print the entities in the document\n",
        "list_GPE = [(ent.text, ent.label_) for ent in doc.ents if ent.label_ == 'GPE']\n",
        "print(list_GPE)\n",
        "print('GPE', len(list_GPE))\n",
        "print('doc.ents', len(doc.ents))\n",
        "print('COUNTRIES', len(COUNTRIES))"
      ],
      "execution_count": 0,
      "outputs": [
        {
          "output_type": "stream",
          "text": [
            "[Afghanistan, Åland Islands, Albania, Algeria, American Samoa, Andorra, Angola, Anguilla, Antarctica, Antigua and Barbuda, Argentina, Armenia, Aruba, Australia, Austria, Azerbaijan, Bahamas, Bahrain, Bangladesh, Barbados, Belarus, Belgium, Belize, Benin, Bermuda, Bhutan, Bolivia (Plurinational State of), Bonaire, Sint Eustatius and Saba, Bosnia and Herzegovina, Botswana, Bouvet Island, Brazil, British Indian Ocean Territory, United States Minor Outlying Islands, Virgin Islands (British), Virgin Islands (U.S.), Brunei Darussalam, Bulgaria, Burkina Faso, Burundi, Cambodia, Cameroon, Canada, Cabo Verde, Cayman Islands, Central African Republic, Chad, Chile, China, Christmas Island, Cocos (Keeling) Islands, Colombia, Comoros, Congo, Congo (Democratic Republic of the), Cook Islands, Costa Rica, Croatia, Cuba, Curaçao, Cyprus, Czech Republic, Denmark, Djibouti, Dominica, Dominican Republic, Ecuador, Egypt, El Salvador, Equatorial Guinea, Eritrea, Estonia, Ethiopia, Falkland Islands (Malvinas), Faroe Islands, Fiji, Finland, France, French Guiana, French Polynesia, French Southern Territories, Gabon, Gambia, Georgia, Germany, Ghana, Gibraltar, Greece, Greenland, Grenada, Guadeloupe, Guam, Guatemala, Guernsey, Guinea, Guinea-Bissau, Guyana, Haiti, Heard Island and McDonald Islands, Holy See, Honduras, Hong Kong, Hungary, Iceland, India, Indonesia, Côte d'Ivoire, Iran (Islamic Republic of), Iraq, Ireland, Isle of Man, Israel, Italy, Jamaica, Japan, Jersey, Jordan, Kazakhstan, Kenya, Kiribati, Kuwait, Kyrgyzstan, Lao People's Democratic Republic, Latvia, Lebanon, Lesotho, Liberia, Libya, Liechtenstein, Lithuania, Luxembourg, Macao, Macedonia (the former Yugoslav Republic of), Madagascar, Malawi, Malaysia, Maldives, Mali, Malta, Marshall Islands, Martinique, Mauritania, Mauritius, Mayotte, Mexico, Micronesia (Federated States of), Moldova (Republic of), Monaco, Mongolia, Montenegro, Montserrat, Morocco, Mozambique, Myanmar, Namibia, Nauru, Nepal, Netherlands, New Caledonia, New Zealand, Nicaragua, Niger, Nigeria, Niue, Norfolk Island, Korea (Democratic People's Republic of), Northern Mariana Islands, Norway, Oman, Pakistan, Palau, Palestine, State of, Panama, Papua New Guinea, Paraguay, Peru, Philippines, Pitcairn, Poland, Portugal, Puerto Rico, Qatar, Republic of Kosovo, Réunion, Romania, Russian Federation, Rwanda, Saint Barthélemy, Saint Helena, Ascension and Tristan da Cunha, Saint Kitts and Nevis, Saint Lucia, Saint Martin (French part), Saint Pierre and Miquelon, Saint Vincent and the Grenadines, Samoa, San Marino, Sao Tome and Principe, Saudi Arabia, Senegal, Serbia, Seychelles, Sierra Leone, Singapore, Sint Maarten (Dutch part), Slovakia, Slovenia, Solomon Islands, Somalia, South Africa, South Georgia and the South Sandwich Islands, Korea (Republic of), South Sudan, Spain, Sri Lanka, Sudan, Suriname, Svalbard and Jan Mayen, Swaziland, Sweden, Switzerland, Syrian Arab Republic, Taiwan, Tajikistan, Tanzania, United Republic of, Thailand, Timor-Leste, Togo, Tokelau, Tonga, Trinidad and Tobago, Tunisia, Turkey, Turkmenistan, Turks and Caicos Islands, Tuvalu, Uganda, Ukraine, United Arab Emirates, United Kingdom of Great Britain and Northern Ireland, United States of America, Uruguay, Uzbekistan, Vanuatu, Venezuela (Bolivarian Republic of), Viet Nam, Wallis and Futuna, Western Sahara, Yemen, Zambia, Zimbabwe]\n",
            "[('Namibia', 'GPE'), ('South Africa', 'GPE'), ('Cambodia', 'GPE'), ('Kuwait', 'GPE'), ('Somalia', 'GPE'), ('Haiti', 'GPE'), ('Mozambique', 'GPE'), ('Somalia', 'GPE'), ('Rwanda', 'GPE'), ('Singapore', 'GPE'), ('Sierra Leone', 'GPE'), ('Afghanistan', 'GPE'), ('Iraq', 'GPE'), ('Sudan', 'GPE'), ('Congo', 'GPE'), ('Haiti', 'GPE')]\n",
            "GPE 16\n",
            "doc.ents 16\n",
            "COUNTRIES 250\n"
          ],
          "name": "stdout"
        }
      ]
    },
    {
      "cell_type": "code",
      "metadata": {
        "id": "L7JS-EaneOhk",
        "colab_type": "code",
        "outputId": "1418cb2f-5e84-42b9-ccaf-94ee06940a92",
        "colab": {
          "base_uri": "https://localhost:8080/",
          "height": 299
        }
      },
      "source": [
        "# Create a doc and find matches in it\n",
        "doc = nlp(text)\n",
        "\n",
        "# Iterate over the matches\n",
        "for match_id, start, end in matcher(doc):\n",
        "    # Create a Span with the label for \"GPE\" and overwrite the doc.ents\n",
        "    span = Span(doc, start, end, label='GPE')\n",
        "    try:\n",
        "        doc.ents = list(doc.ents) + [span]\n",
        "    except:\n",
        "        ValueError\n",
        "    \n",
        "    # Get the span's root head token\n",
        "    span_root_head = span.root.head\n",
        "    # Print the text of the span root's head token and the span text\n",
        "    print(span_root_head.text, '-->', span.text)"
      ],
      "execution_count": 0,
      "outputs": [
        {
          "output_type": "stream",
          "text": [
            "in --> Namibia\n",
            "in --> South Africa\n",
            "oversaw --> Cambodia\n",
            "of --> Kuwait\n",
            "as --> Somalia\n",
            "Somalia --> Haiti\n",
            "Haiti --> Mozambique\n",
            "in --> Somalia\n",
            "for --> Rwanda\n",
            "Britain --> Singapore\n",
            "War --> Sierra Leone\n",
            "of --> Afghanistan\n",
            "invaded --> Iraq\n",
            "in --> Sudan\n",
            "of --> Congo\n",
            "earthquake --> Haiti\n"
          ],
          "name": "stdout"
        }
      ]
    },
    {
      "cell_type": "code",
      "metadata": {
        "id": "l6ys8FgPZEWX",
        "colab_type": "code",
        "outputId": "edddb9e2-01c5-458c-dc08-3c98ea040da5",
        "colab": {
          "base_uri": "https://localhost:8080/",
          "height": 52
        }
      },
      "source": [
        "class EntityMatcher(object):\n",
        "    name = \"entity_matcher\"\n",
        "\n",
        "    def __init__(self, nlp, terms, label):\n",
        "        patterns = [nlp.make_doc(text) for text in terms]\n",
        "        self.matcher = PhraseMatcher(nlp.vocab)\n",
        "        self.matcher.add(label, None, *patterns)\n",
        "\n",
        "    def __call__(self, doc):\n",
        "        matches = self.matcher(doc)\n",
        "        seen_tokens = set()\n",
        "        new_entities = []\n",
        "        entities = doc.ents\n",
        "        for match_id, start, end in matches:\n",
        "        #    span = Span(doc, start, end, label=match_id)\n",
        "        #    doc.ents = list(doc.ents) + [span]\n",
        "            # check for end - 1 here because boundaries are inclusive\n",
        "            if start not in seen_tokens and end - 1 not in seen_tokens:\n",
        "                new_entities.append(Span(doc, start, end, label=match_id))\n",
        "                entities = [\n",
        "                    e for e in entities if not (e.start < end and e.end > start)\n",
        "                ]\n",
        "                seen_tokens.update(range(start, end))\n",
        "\n",
        "        doc.ents = tuple(entities) + tuple(new_entities)\n",
        "        return doc\n",
        "    \n",
        "terms = (u\"cat\", u\"dog\", u\"tree kangaroo\", u\"giant sea spider\", u\"Barack Obama\")\n",
        "entity_matcher = EntityMatcher(nlp, terms, \"PRESIDENT\")\n",
        "nlp.add_pipe(entity_matcher, after=\"ner\")\n",
        "print(nlp.pipe_names)  # The components in the pipeline\n",
        "\n",
        "doc = nlp(u\"This is a text about Barack Obama and a tree kangaroo\")\n",
        "print([(ent.text, ent.label_) for ent in doc.ents])"
      ],
      "execution_count": 0,
      "outputs": [
        {
          "output_type": "stream",
          "text": [
            "['tagger', 'parser', 'ner', 'entity_matcher']\n",
            "[('Barack Obama', 'PRESIDENT'), ('tree kangaroo', 'PRESIDENT')]\n"
          ],
          "name": "stdout"
        }
      ]
    },
    {
      "cell_type": "markdown",
      "metadata": {
        "id": "cF0Zn_Pygo2N",
        "colab_type": "text"
      },
      "source": [
        "# Chapter 3: Processing pipelines\n"
      ]
    },
    {
      "cell_type": "markdown",
      "metadata": {
        "id": "asPRXxP5i38v",
        "colab_type": "text"
      },
      "source": [
        "<img src=\"https://github.com/Nov05/pictures/blob/master/pic001/2019-09-05%2003_22_33-Processing%20pipelines%20_%20Python.png?raw=true\" width=700>  \n",
        "\n",
        "<img src=\"https://github.com/Nov05/pictures/blob/master/pic001/2019-09-05%2003_29_38-Processing%20pipelines%20_%20Python.png?raw=true\" width=700>\n"
      ]
    },
    {
      "cell_type": "markdown",
      "metadata": {
        "id": "sZD0YVSAjra_",
        "colab_type": "text"
      },
      "source": [
        "### What happens when you call nlp?\n",
        "What does spaCy do when you call nlp on a string of text? The IPython shell has a pre-loaded nlp object that logs what's going on under the hood. Try processing a text with it!\n",
        "\n",
        "`doc = nlp(\"This is a sentence.\")`\n",
        "\n",
        "**Possible Answers**   \n",
        "Run the tagger, parser and entity recognizer and then the tokenizer.  \n",
        "【Tokenize the text and apply each pipeline component in order.】  \n",
        "Connect to the spaCy server to compute the result and return it.  \n",
        "Initialize the language, add the pipeline and load in the binary model weights.   "
      ]
    },
    {
      "cell_type": "markdown",
      "metadata": {
        "id": "MRU19JoVkcyq",
        "colab_type": "text"
      },
      "source": [
        "### Inspecting the pipeline\n",
        "Let's inspect the small English model's pipeline!"
      ]
    },
    {
      "cell_type": "code",
      "metadata": {
        "id": "LbXlOg8hi4oi",
        "colab_type": "code",
        "outputId": "caeeb4da-3f6d-4cef-dc7e-b65e83a7af48",
        "colab": {
          "base_uri": "https://localhost:8080/",
          "height": 72
        }
      },
      "source": [
        "# # remember to restart the runtime \n",
        "# # do not 'Reset all runtimes'!\n",
        "# !python -m spacy download en_core_web_sm\n",
        "# nlp = spacy.load(\"en_core_web_sm\")\n",
        "print(nlp.pipe_names)\n",
        "print(nlp.pipeline)"
      ],
      "execution_count": 0,
      "outputs": [
        {
          "output_type": "stream",
          "text": [
            "['tagger', 'parser', 'ner']\n",
            "[('tagger', <spacy.pipeline.pipes.Tagger object at 0x7f41c7b1fb70>), ('parser', <spacy.pipeline.pipes.DependencyParser object at 0x7f41c79e08e8>), ('ner', <spacy.pipeline.pipes.EntityRecognizer object at 0x7f41c79e0948>)]\n"
          ],
          "name": "stdout"
        }
      ]
    },
    {
      "cell_type": "markdown",
      "metadata": {
        "id": "55a4VwLFmVXF",
        "colab_type": "text"
      },
      "source": [
        "### Custom pipeline components\n",
        "\n",
        "<img src=\"https://github.com/Nov05/pictures/blob/master/pic001/2019-09-05%2003_42_49-Custom%20pipeline%20components%20_%20Python.png?raw=true\" width=700>"
      ]
    },
    {
      "cell_type": "markdown",
      "metadata": {
        "id": "7FSqP-IJmMmE",
        "colab_type": "text"
      },
      "source": [
        "### Use cases for custom components\n",
        "Which of these problems can be solved by custom pipeline components? Choose all that apply!\n",
        "\n",
        "updating the pre-trained models and improving their predictions  \n",
        "【computing your own values based on tokens and their attributes】  \n",
        "【adding named entities, for example based on a dictionary】  \n",
        "implementing support for an additional language  \n",
        "\n"
      ]
    },
    {
      "cell_type": "markdown",
      "metadata": {
        "id": "VSmVb37inNmY",
        "colab_type": "text"
      },
      "source": [
        "### Simple components\n",
        "The example shows a custom component that prints the character length of a document. Can you complete it? spacy has already been imported for you."
      ]
    },
    {
      "cell_type": "code",
      "metadata": {
        "id": "HH_5jr4Vn2Dm",
        "colab_type": "code",
        "outputId": "f47e7076-0daf-40cf-da3e-31d86d45405d",
        "colab": {
          "base_uri": "https://localhost:8080/",
          "height": 35
        }
      },
      "source": [
        "# Define the custom component\n",
        "def length_component(doc):\n",
        "    # Get the doc's length\n",
        "    doc_length = len(doc)\n",
        "    print(\"This document is {} tokens long.\".format(doc_length))\n",
        "    # Return the doc\n",
        "    return doc\n",
        "  \n",
        "# Load the small English model and Add the component first in the pipeline\n",
        "nlp = spacy.load('en_core_web_sm')\n",
        "nlp.add_pipe(length_component, first=True)\n",
        "\n",
        "# Process a text\n",
        "doc = nlp(\"This is a sentence.\")"
      ],
      "execution_count": 0,
      "outputs": [
        {
          "output_type": "stream",
          "text": [
            "This document is 5 tokens long.\n"
          ],
          "name": "stdout"
        }
      ]
    },
    {
      "cell_type": "markdown",
      "metadata": {
        "id": "o_8sy0M9n7tF",
        "colab_type": "text"
      },
      "source": [
        "### Complex components\n",
        "In this exercise, you'll be writing a custom component that uses the PhraseMatcher to find animal names in the document and adds the matched spans to the doc.ents.\n",
        "\n",
        "A PhraseMatcher with the animal patterns has already been created as the variable matcher. The small English model is available as the variable nlp. The Span object has already been imported for you."
      ]
    },
    {
      "cell_type": "code",
      "metadata": {
        "id": "9MMfN0Zgoa3Z",
        "colab_type": "code",
        "outputId": "8649af4d-f139-464e-da93-e5330d78b339",
        "colab": {
          "base_uri": "https://localhost:8080/",
          "height": 70
        }
      },
      "source": [
        "# Import the PhraseMatcher and initialize it\n",
        "from spacy.matcher import PhraseMatcher\n",
        "\n",
        "nlp = spacy.load(\"en_core_web_sm\")\n",
        "matcher = PhraseMatcher(nlp.vocab)\n",
        "animal_patterns = ['Golden Retriever', 'cat', 'turtle', 'Rattus norvegicus']\n",
        "animal_patterns = list(nlp.pipe(animal_patterns))\n",
        "matcher.add('ANIMAL', None, *animal_patterns)\n",
        "print(animal_patterns)\n",
        "\n",
        "# Define the custom component\n",
        "def animal_component(doc):\n",
        "    # Apply the matcher to the doc\n",
        "    matches = matcher(doc)\n",
        "    # Create a Span for each match and assign the label 'ANIMAL'\n",
        "    spans = [Span(doc, start, end, label='ANIMAL')\n",
        "             for match_id, start, end in matches]\n",
        "    # Overwrite the doc.ents with the matched spans\n",
        "    doc.ents = spans\n",
        "    return doc\n",
        "\n",
        "# Add the component to the pipeline after the 'ner' component \n",
        "nlp.add_pipe(animal_component, after='ner')\n",
        "print(nlp.pipe_names)\n",
        "\n",
        "doc = nlp(\"black cat\")\n",
        "print(doc.ents)"
      ],
      "execution_count": 0,
      "outputs": [
        {
          "output_type": "stream",
          "text": [
            "[Golden Retriever, cat, turtle, Rattus norvegicus]\n",
            "['tagger', 'parser', 'ner', 'animal_component']\n",
            "(cat,)\n"
          ],
          "name": "stdout"
        }
      ]
    },
    {
      "cell_type": "code",
      "metadata": {
        "id": "y4HrvUltr-FF",
        "colab_type": "code",
        "outputId": "fe489916-09ff-4034-c23f-55c9cf7e0a3d",
        "colab": {
          "base_uri": "https://localhost:8080/",
          "height": 35
        }
      },
      "source": [
        "nlp = spacy.load(\"en_core_web_sm\")\n",
        "matcher = PhraseMatcher(nlp.vocab)\n",
        "animal_patterns = ['Golden Retriever', 'cat', 'turtle', 'Rattus norvegicus']\n",
        "animal_patterns = list(nlp.pipe(animal_patterns))\n",
        "matcher.add('ANIMAL', None, *animal_patterns)\n",
        "\n",
        "# Define the custom component\n",
        "def animal_component(doc):\n",
        "    # Create a Span for each match and assign the label 'ANIMAL'\n",
        "    # and overwrite the doc.ents with the matched spans\n",
        "    doc.ents = [Span(doc, start, end, label='ANIMAL')\n",
        "                for match_id, start, end in matcher(doc)]\n",
        "    return doc\n",
        "    \n",
        "# Add the component to the pipeline after the 'ner' component \n",
        "nlp.add_pipe(animal_component, after='ner')\n",
        "\n",
        "# Process the text and print the text and label for the doc.ents\n",
        "doc = nlp(\"I have a cat and a Golden Retriever\")\n",
        "print([(ent.text, ent.label_) for ent in doc.ents])"
      ],
      "execution_count": 0,
      "outputs": [
        {
          "output_type": "stream",
          "text": [
            "[('cat', 'ANIMAL'), ('Golden Retriever', 'ANIMAL')]\n"
          ],
          "name": "stdout"
        }
      ]
    },
    {
      "cell_type": "markdown",
      "metadata": {
        "id": "cwm-SWbXw7un",
        "colab_type": "text"
      },
      "source": [
        "### Setting extension attributes (1)\n",
        "Let's practice setting some extension attributes. The nlp object has already been created for you and the Doc, Token and Span classes are already imported.\n",
        "\n",
        "Remember that if you run your code more than once, you might see an error message that the extension already exists. That's because DataCamp will re-run your code in the same session. To solve this, you can set force=True on set_extension, or reload to start a new Python session. None of this will affect the answer you submit."
      ]
    },
    {
      "cell_type": "code",
      "metadata": {
        "id": "U2oJCZQsvWI2",
        "colab_type": "code",
        "outputId": "bc95c1e7-acff-4308-8f5c-0c62665cccda",
        "colab": {
          "base_uri": "https://localhost:8080/",
          "height": 35
        }
      },
      "source": [
        "from spacy.tokens import Token, Doc, Span\n",
        "\n",
        "# Register the Token extension attribute 'is_country' with the default value False\n",
        "Token.set_extension('is_country', default=False, force=True)\n",
        "\n",
        "# Process the text and set the is_country attribute to True for the token \"Spain\"\n",
        "doc = nlp(\"I live in Spain.\")\n",
        "doc[3]._.is_country = True\n",
        "\n",
        "# Print the token text and the is_country attribute for all tokens\n",
        "print([(token.text, token._.is_country) for token in doc])"
      ],
      "execution_count": 0,
      "outputs": [
        {
          "output_type": "stream",
          "text": [
            "[('I', False), ('live', False), ('in', False), ('Spain', True), ('.', False)]\n"
          ],
          "name": "stdout"
        }
      ]
    },
    {
      "cell_type": "code",
      "metadata": {
        "id": "duu8rmkUyPGV",
        "colab_type": "code",
        "outputId": "9773d9c1-fc93-4842-875c-1e41160bb5ce",
        "colab": {
          "base_uri": "https://localhost:8080/",
          "height": 175
        }
      },
      "source": [
        "# Define the getter function that takes a token and returns its reversed text\n",
        "def get_reversed(token):\n",
        "    return token.text[::-1]\n",
        "  \n",
        "# Register the Token property extension 'reversed' with the getter get_reversed\n",
        "Token.set_extension('reversed', getter=get_reversed, force=True)\n",
        "\n",
        "# Process the text and print the reversed attribute for each token\n",
        "doc = nlp(\"All generalizations are false, including this one.\")\n",
        "for token in doc:\n",
        "    print('reversed:', token._.reversed)"
      ],
      "execution_count": 0,
      "outputs": [
        {
          "output_type": "stream",
          "text": [
            "reversed: llA\n",
            "reversed: snoitazilareneg\n",
            "reversed: era\n",
            "reversed: eslaf\n",
            "reversed: ,\n",
            "reversed: gnidulcni\n",
            "reversed: siht\n",
            "reversed: eno\n",
            "reversed: .\n"
          ],
          "name": "stdout"
        }
      ]
    },
    {
      "cell_type": "markdown",
      "metadata": {
        "id": "VvNd9liQzile",
        "colab_type": "text"
      },
      "source": [
        "### Setting extension attributes (2)\n",
        "Let's try setting some more complex attributes using getters and method extensions. The nlp object has already been created for you and the Doc, Token and Span classes are already imported.\n",
        "\n",
        "Remember that if you run your code more than once, you might see an error message that the extension already exists. That's because DataCamp will re-run your code in the same session. To solve this, you can set force=True on set_extension, or reload to start a new Python session. None of this will affect the answer you submit."
      ]
    },
    {
      "cell_type": "code",
      "metadata": {
        "id": "boAxEZV3zawD",
        "colab_type": "code",
        "outputId": "530e15a9-2042-4a9f-d1e8-d4ad46bc6450",
        "colab": {
          "base_uri": "https://localhost:8080/",
          "height": 35
        }
      },
      "source": [
        "# Define the getter function\n",
        "def get_has_number(doc):\n",
        "    # Return if any of the tokens in the doc return True for token.like_num\n",
        "    return any(token.like_num for token in doc)\n",
        "\n",
        "# Register the Doc property extension 'has_number' with the getter get_has_number\n",
        "Doc.set_extension('has_number', getter=get_has_number, force=True)\n",
        "\n",
        "# Process the text and check the custom has_number attribute \n",
        "doc = nlp(\"The museum closed for five years in 2012.\")\n",
        "print('has_number:', doc._.has_number)"
      ],
      "execution_count": 0,
      "outputs": [
        {
          "output_type": "stream",
          "text": [
            "has_number: True\n"
          ],
          "name": "stdout"
        }
      ]
    },
    {
      "cell_type": "code",
      "metadata": {
        "id": "eZuDg7hs2if8",
        "colab_type": "code",
        "outputId": "f93b48ec-10ec-4874-8a57-955059c3cc5b",
        "colab": {
          "base_uri": "https://localhost:8080/",
          "height": 35
        }
      },
      "source": [
        "# Span extensions should always use a getter\n",
        "\n",
        "# Define the method\n",
        "def to_html(span, tag):\n",
        "    # Wrap the span text in a HTML tag and return it\n",
        "    return '<{tag}>{text}</{tag}>'.format(tag=tag, text=span.text)\n",
        "\n",
        "# Register the Span property extension 'to_html' with the method to_html\n",
        "Span.set_extension('to_html', method=to_html)\n",
        "\n",
        "# Process the text and call the to_html method on the span with the tag name 'strong'\n",
        "doc = nlp(\"Hello world, this is a sentence.\")\n",
        "span = doc[0:2]\n",
        "print(span._.to_html('strong'))"
      ],
      "execution_count": 0,
      "outputs": [
        {
          "output_type": "stream",
          "text": [
            "<strong>Hello world</strong>\n"
          ],
          "name": "stdout"
        }
      ]
    },
    {
      "cell_type": "markdown",
      "metadata": {
        "id": "XvXj-YGW3epP",
        "colab_type": "text"
      },
      "source": [
        "### Entities and extensions\n",
        "In this exercise, you'll combine custom extension attributes with the model's predictions and create an attribute getter that returns a Wikipedia search URL if the span is a person, organization, or location.\n",
        "\n",
        "The Span class is already imported and the nlp object has been created for you."
      ]
    },
    {
      "cell_type": "code",
      "metadata": {
        "id": "VLvb1-B048_7",
        "colab_type": "code",
        "outputId": "1706b6b0-4bd0-47a8-98e5-464a5a2ee6a4",
        "colab": {
          "base_uri": "https://localhost:8080/",
          "height": 70
        }
      },
      "source": [
        "nlp = spacy.load(\"en_core_web_sm\")\n",
        "\n",
        "def get_wikipedia_url(span):\n",
        "    # Get a Wikipedia URL if the span has one of the labels\n",
        "    if span.label_ in ('PERSON', 'ORG', 'GPE', 'LOCATION'):\n",
        "        entity_text = span.text.replace(' ', '_')\n",
        "        return \"https://en.wikipedia.org/w/index.php?search=\" + entity_text\n",
        "\n",
        "# Set the Span extension wikipedia_url using get getter get_wikipedia_url\n",
        "Span.set_extension('wikipedia_url', getter=get_wikipedia_url, force=True)\n",
        "\n",
        "doc = nlp(\"In over fifty years from his very first recordings right through to his last album, David Bowie was at the vanguard of contemporary culture.\")\n",
        "for ent in doc.ents:\n",
        "    # Print the text and Wikipedia URL of the entity\n",
        "    print(ent.text, ent._.wikipedia_url)"
      ],
      "execution_count": 0,
      "outputs": [
        {
          "output_type": "stream",
          "text": [
            "over fifty years None\n",
            "first None\n",
            "David Bowie https://en.wikipedia.org/w/index.php?search=David_Bowie\n"
          ],
          "name": "stdout"
        }
      ]
    },
    {
      "cell_type": "markdown",
      "metadata": {
        "id": "iDMwj-On5Qk-",
        "colab_type": "text"
      },
      "source": [
        "### Components with extensions\n",
        "Extension attributes are especially powerful if they're combined with custom pipeline components. In this exercise, you'll write a pipeline component that finds country names and a custom extension attribute that returns a country's capital, if available.\n",
        "\n",
        "The nlp object has already been created and the Span class is already imported. A phrase matcher with all countries is available as the variable matcher. A dictionary of countries mapped to their capital cities is available as the variable capitals."
      ]
    },
    {
      "cell_type": "code",
      "metadata": {
        "id": "1bY-HxYK7gEG",
        "colab_type": "code",
        "outputId": "96ac1601-eafa-4b9f-bc9f-4f38e8f30150",
        "colab": {
          "base_uri": "https://localhost:8080/",
          "height": 35
        }
      },
      "source": [
        "nlp = spacy.load(\"en_core_web_sm\")\n",
        "\n",
        "COUNTRIES = ['Afghanistan', 'Åland Islands', 'Albania', \\\n",
        "             'Algeria', 'American Samoa', 'Andorra', \\\n",
        "             'Angola', 'Anguilla', 'Antarctica', \\\n",
        "             'Antigua and Barbuda', 'Argentina', 'Armenia', \\\n",
        "             'Aruba', 'Australia', 'Austria', 'Azerbaijan', \\\n",
        "             'Bahamas', 'Bahrain', 'Bangladesh', 'Barbados', \\\n",
        "             'Belarus', 'Belgium', 'Belize', 'Benin', 'Bermuda', \\\n",
        "             'Bhutan', 'Bolivia (Plurinational State of)', \\\n",
        "             'Bonaire, Sint Eustatius and Saba', \\\n",
        "             'Bosnia and Herzegovina', 'Botswana', \\\n",
        "             'Bouvet Island', 'Brazil', \\\n",
        "             'British Indian Ocean Territory', \\\n",
        "             'United States Minor Outlying Islands', 'Virgin Islands (British)', 'Virgin Islands (U.S.)', 'Brunei Darussalam', 'Bulgaria', 'Burkina Faso', 'Burundi', 'Cambodia', 'Cameroon', 'Canada', 'Cabo Verde', 'Cayman Islands', 'Central African Republic', 'Chad', 'Chile', 'China', 'Christmas Island', 'Cocos (Keeling) Islands', 'Colombia', 'Comoros', 'Congo', 'Congo (Democratic Republic of the)', 'Cook Islands', 'Costa Rica', 'Croatia', 'Cuba', 'Curaçao', 'Cyprus', 'Czech Republic', 'Denmark', 'Djibouti', 'Dominica', 'Dominican Republic', 'Ecuador', 'Egypt', 'El Salvador', 'Equatorial Guinea', 'Eritrea', 'Estonia', 'Ethiopia', 'Falkland Islands (Malvinas)', 'Faroe Islands', 'Fiji', 'Finland', 'France', 'French Guiana', 'French Polynesia', 'French Southern Territories', 'Gabon', 'Gambia', 'Georgia', 'Germany', 'Ghana', 'Gibraltar', 'Greece', 'Greenland', 'Grenada', 'Guadeloupe', 'Guam', 'Guatemala', 'Guernsey', 'Guinea', 'Guinea-Bissau', 'Guyana', 'Haiti', 'Heard Island and McDonald Islands', 'Holy See', 'Honduras', 'Hong Kong', 'Hungary', 'Iceland', 'India', 'Indonesia', \"Côte d'Ivoire\", 'Iran (Islamic Republic of)', 'Iraq', 'Ireland', 'Isle of Man', 'Israel', 'Italy', 'Jamaica', 'Japan', 'Jersey', 'Jordan', 'Kazakhstan', 'Kenya', 'Kiribati', 'Kuwait', 'Kyrgyzstan', \"Lao People's Democratic Republic\", 'Latvia', 'Lebanon', 'Lesotho', 'Liberia', 'Libya', 'Liechtenstein', 'Lithuania', 'Luxembourg', 'Macao', 'Macedonia (the former Yugoslav Republic of)', 'Madagascar', 'Malawi', 'Malaysia', 'Maldives', 'Mali', 'Malta', 'Marshall Islands', 'Martinique', 'Mauritania', 'Mauritius', 'Mayotte', 'Mexico', 'Micronesia (Federated States of)', 'Moldova (Republic of)', 'Monaco', 'Mongolia', 'Montenegro', 'Montserrat', 'Morocco', 'Mozambique', 'Myanmar', 'Namibia', 'Nauru', 'Nepal', 'Netherlands', 'New Caledonia', 'New Zealand', 'Nicaragua', 'Niger', 'Nigeria', 'Niue', 'Norfolk Island', \"Korea (Democratic People's Republic of)\", 'Northern Mariana Islands', 'Norway', 'Oman', 'Pakistan', 'Palau', 'Palestine, State of', 'Panama', 'Papua New Guinea', 'Paraguay', 'Peru', 'Philippines', 'Pitcairn', 'Poland', 'Portugal', 'Puerto Rico', 'Qatar', 'Republic of Kosovo', 'Réunion', 'Romania', 'Russian Federation', 'Rwanda', 'Saint Barthélemy', 'Saint Helena, Ascension and Tristan da Cunha', 'Saint Kitts and Nevis', 'Saint Lucia', 'Saint Martin (French part)', 'Saint Pierre and Miquelon', 'Saint Vincent and the Grenadines', 'Samoa', 'San Marino', 'Sao Tome and Principe', 'Saudi Arabia', 'Senegal', 'Serbia', 'Seychelles', 'Sierra Leone', 'Singapore', 'Sint Maarten (Dutch part)', 'Slovakia', 'Slovenia', 'Solomon Islands', 'Somalia', 'South Africa', 'South Georgia and the South Sandwich Islands', 'Korea (Republic of)', 'South Sudan', 'Spain', 'Sri Lanka', 'Sudan', 'Suriname', 'Svalbard and Jan Mayen', 'Swaziland', 'Sweden', 'Switzerland', 'Syrian Arab Republic', 'Taiwan', 'Tajikistan', 'Tanzania, United Republic of', 'Thailand', 'Timor-Leste', 'Togo', 'Tokelau', 'Tonga', 'Trinidad and Tobago', 'Tunisia', 'Turkey', 'Turkmenistan', 'Turks and Caicos Islands', 'Tuvalu', 'Uganda', 'Ukraine', 'United Arab Emirates', 'United Kingdom of Great Britain and Northern Ireland', 'United States of America', 'Uruguay', 'Uzbekistan', 'Vanuatu', 'Venezuela (Bolivarian Republic of)', 'Viet Nam', 'Wallis and Futuna', 'Western Sahara', 'Yemen', 'Zambia', 'Zimbabwe']\n",
        "\n",
        "capitals = {'Czech Republic': 'Prague', \n",
        "            'Slovakia': 'Bratislava'}\n",
        "\n",
        "# Import the PhraseMatcher and initialize it\n",
        "from spacy.matcher import PhraseMatcher\n",
        "matcher = PhraseMatcher(nlp.vocab)\n",
        "\n",
        "# Create pattern Doc objects and add them to the matcher\n",
        "# This is the faster version of: [nlp(country) for country in COUNTRIES]\n",
        "patterns = list(nlp.pipe(COUNTRIES))\n",
        "matcher.add('COUNTRY', None, *patterns)\n",
        "\n",
        "def countries_component(doc):\n",
        "    # Create an entity Span with the label 'GPE' for all matches\n",
        "    doc.ents = [Span(doc, start, end, label='GPE')\n",
        "                for match_id, start, end in matcher(doc)]\n",
        "    return doc\n",
        "\n",
        "# Add the component to the pipeline\n",
        "nlp.add_pipe(countries_component)\n",
        "\n",
        "# Register capital and getter that looks up the span text in country capitals\n",
        "Span.set_extension('capital', \n",
        "                   getter=lambda span: capitals.get(span.text), \n",
        "                   force=True)\n",
        "\n",
        "# Process the text and print the entity text, label and capital attributes\n",
        "doc = nlp(\"Czech Republic may help Slovakia protect its airspace\")\n",
        "print([(ent.text, ent.label_, ent._.capital) for ent in doc.ents])"
      ],
      "execution_count": 0,
      "outputs": [
        {
          "output_type": "stream",
          "text": [
            "[('Czech Republic', 'GPE', 'Prague'), ('Slovakia', 'GPE', 'Bratislava')]\n"
          ],
          "name": "stdout"
        }
      ]
    },
    {
      "cell_type": "markdown",
      "metadata": {
        "id": "QjZS7x2q_VfM",
        "colab_type": "text"
      },
      "source": [
        "### Processing streams\n",
        "In this exercise, you'll be using nlp.pipe for more efficient text processing. The nlp object has already been created for you. A list of tweets about a popular American fast food chain are available as the variable TEXTS."
      ]
    },
    {
      "cell_type": "code",
      "metadata": {
        "id": "PeMg5q0V_vDD",
        "colab_type": "code",
        "outputId": "f8c17f71-0658-4a40-f3ae-e0c3b17326b3",
        "colab": {
          "base_uri": "https://localhost:8080/",
          "height": 140
        }
      },
      "source": [
        "TEXTS = ['McDonalds is my favorite restaurant.', 'Here I thought @McDonalds only had precooked burgers but it seems they only have not cooked ones?? I have no time to get sick..', 'People really still eat McDonalds :(', 'The McDonalds in Spain has chicken wings. My heart is so happy ', '@McDonalds Please bring back the most delicious fast food sandwich of all times!!....The Arch Deluxe :P', 'please hurry and open. I WANT A #McRib SANDWICH SO BAD! :D', 'This morning i made a terrible decision by gettin mcdonalds and now my stomach is payin for it']\n",
        "\n",
        "# Process the texts and print the adjectives\n",
        "\n",
        "## Bad coding\n",
        "# for text in TEXTS:\n",
        "#     doc = nlp(text)\n",
        "#     print([token.text for token in doc if token.pos_ == 'ADJ'])\n",
        "\n",
        "for doc in nlp.pipe(TEXTS):\n",
        "    print([token.text for token in doc if token.pos_ == 'ADJ'])"
      ],
      "execution_count": 0,
      "outputs": [
        {
          "output_type": "stream",
          "text": [
            "['favorite']\n",
            "['sick']\n",
            "[]\n",
            "['happy']\n",
            "['delicious', 'fast']\n",
            "[]\n",
            "['terrible', 'gettin', 'payin']\n"
          ],
          "name": "stdout"
        }
      ]
    },
    {
      "cell_type": "code",
      "metadata": {
        "id": "4UgNosruAQCB",
        "colab_type": "code",
        "outputId": "eb767114-ed68-4dcc-b1ee-1ef937b384a5",
        "colab": {
          "base_uri": "https://localhost:8080/",
          "height": 35
        }
      },
      "source": [
        "# Process the texts and print the entities\n",
        "\n",
        "nlp = spacy.load(\"en_core_web_sm\")\n",
        "\n",
        "## Bad coding\n",
        "# docs = [nlp(text) for text in TEXTS]\n",
        "# entities = [doc.ents for doc in docs]\n",
        "# print(*entities)\n",
        "\n",
        "docs = list(nlp.pipe(TEXTS))\n",
        "entities = [doc.ents for doc in docs]\n",
        "print(*entities)"
      ],
      "execution_count": 0,
      "outputs": [
        {
          "output_type": "stream",
          "text": [
            "(McDonalds,) (@McDonalds,) (McDonalds,) (McDonalds, Spain) (The Arch Deluxe,) (WANT, McRib) (This morning,)\n"
          ],
          "name": "stdout"
        }
      ]
    },
    {
      "cell_type": "code",
      "metadata": {
        "id": "iSCUEiAgE3og",
        "colab_type": "code",
        "colab": {}
      },
      "source": [
        "people = ['David Bowie', 'Angela Merkel', 'Lady Gaga']\n",
        "\n",
        "# Create a list of patterns for the PhraseMatcher\n",
        "\n",
        "## Bad coding\n",
        "# patterns = [nlp(person) for person in people]\n",
        "\n",
        "patterns = list(nlp.pipe(people))"
      ],
      "execution_count": 0,
      "outputs": []
    },
    {
      "cell_type": "markdown",
      "metadata": {
        "id": "EpNSDP3WE7pz",
        "colab_type": "text"
      },
      "source": [
        "### Processing data with context\n",
        "In this exercise, you'll be using custom attributes to add author and book meta information to quotes.\n",
        "\n",
        "A list of (text, context) examples is available as the variable DATA. The texts are quotes from famous books, and the contexts dictionaries with the keys 'author' and 'book'. The nlp object has already been created for you."
      ]
    },
    {
      "cell_type": "code",
      "metadata": {
        "id": "sTz25yvRHBfW",
        "colab_type": "code",
        "outputId": "77b33aaa-c936-4659-ffc9-e7047948c3ae",
        "colab": {
          "base_uri": "https://localhost:8080/",
          "height": 354
        }
      },
      "source": [
        "DATA = [('One morning, when Gregor Samsa woke from troubled dreams, he found himself transformed in his bed into a horrible vermin.', {'book': 'Metamorphosis', 'author': 'Franz Kafka'}), (\"I know not all that may be coming, but be it what it will, I'll go to it laughing.\", {'book': 'Moby-Dick or, The Whale', 'author': 'Herman Melville'}), ('It was the best of times, it was the worst of times.', {'book': 'A Tale of Two Cities', 'author': 'Charles Dickens'}), ('The only people for me are the mad ones, the ones who are mad to live, mad to talk, mad to be saved, desirous of everything at the same time, the ones who never yawn or say a commonplace thing, but burn, burn, burn like fabulous yellow roman candles exploding like spiders across the stars.', {'book': 'On the Road', 'author': 'Jack Kerouac'}), ('It was a bright cold day in April, and the clocks were striking thirteen.', {'book': '1984', 'author': 'George Orwell'}), ('Nowadays people know the price of everything and the value of nothing.', {'book': 'The Picture Of Dorian Gray', 'author': 'Oscar Wilde'})]\n",
        "\n",
        "# Import the Doc class and register the extensions 'author' and 'book'\n",
        "from spacy.tokens import Doc\n",
        "Doc.set_extension('book', default=None, force=True)\n",
        "Doc.set_extension('author', default=None, force=True)\n",
        "\n",
        "for doc, context in nlp.pipe(DATA, as_tuples=True):\n",
        "    # Set the doc._.book and doc._.author attributes from the context\n",
        "    doc._.book = context['book']\n",
        "    doc._.author = context['author']\n",
        "    \n",
        "    # Print the text and custom attribute data\n",
        "    print(doc.text, '\\n', \"— '{}' by {}\".format(doc._.book, doc._.author), '\\n')"
      ],
      "execution_count": 0,
      "outputs": [
        {
          "output_type": "stream",
          "text": [
            "One morning, when Gregor Samsa woke from troubled dreams, he found himself transformed in his bed into a horrible vermin. \n",
            " — 'Metamorphosis' by Franz Kafka \n",
            "\n",
            "I know not all that may be coming, but be it what it will, I'll go to it laughing. \n",
            " — 'Moby-Dick or, The Whale' by Herman Melville \n",
            "\n",
            "It was the best of times, it was the worst of times. \n",
            " — 'A Tale of Two Cities' by Charles Dickens \n",
            "\n",
            "The only people for me are the mad ones, the ones who are mad to live, mad to talk, mad to be saved, desirous of everything at the same time, the ones who never yawn or say a commonplace thing, but burn, burn, burn like fabulous yellow roman candles exploding like spiders across the stars. \n",
            " — 'On the Road' by Jack Kerouac \n",
            "\n",
            "It was a bright cold day in April, and the clocks were striking thirteen. \n",
            " — '1984' by George Orwell \n",
            "\n",
            "Nowadays people know the price of everything and the value of nothing. \n",
            " — 'The Picture Of Dorian Gray' by Oscar Wilde \n",
            "\n"
          ],
          "name": "stdout"
        }
      ]
    },
    {
      "cell_type": "markdown",
      "metadata": {
        "id": "L2w0ujRLHVvf",
        "colab_type": "text"
      },
      "source": [
        "### Selective processing\n",
        "In this exercise, you'll use the nlp.make_doc and nlp.disable_pipes methods to only run selected components when processing a text. The small English model is already loaded in as the nlp object."
      ]
    },
    {
      "cell_type": "code",
      "metadata": {
        "id": "nXGkorZNIMn1",
        "colab_type": "code",
        "outputId": "4581c682-3156-4e1e-f96e-21eb15bf7b17",
        "colab": {
          "base_uri": "https://localhost:8080/",
          "height": 55
        }
      },
      "source": [
        "text = \"Chick-fil-A is an American fast food restaurant chain headquartered in the city of College Park, Georgia, specializing in chicken sandwiches.\"\n",
        "\n",
        "# Only tokenize the text\n",
        "# doc = nlp(text) # bad coding\n",
        "doc = nlp.make_doc(text)\n",
        "\n",
        "print([token.text for token in doc])"
      ],
      "execution_count": 0,
      "outputs": [
        {
          "output_type": "stream",
          "text": [
            "['Chick', '-', 'fil', '-', 'A', 'is', 'an', 'American', 'fast', 'food', 'restaurant', 'chain', 'headquartered', 'in', 'the', 'city', 'of', 'College', 'Park', ',', 'Georgia', ',', 'specializing', 'in', 'chicken', 'sandwiches', '.']\n"
          ],
          "name": "stdout"
        }
      ]
    },
    {
      "cell_type": "code",
      "metadata": {
        "id": "_L3PcTd8I2rJ",
        "colab_type": "code",
        "outputId": "1fc274f6-0ece-42f3-e76a-e5c62510afe3",
        "colab": {
          "base_uri": "https://localhost:8080/",
          "height": 35
        }
      },
      "source": [
        "text = \"Chick-fil-A is an American fast food restaurant chain headquartered in the city of College Park, Georgia, specializing in chicken sandwiches.\"\n",
        "\n",
        "# Disable the tagger and parser\n",
        "with nlp.disable_pipes('tagger', 'parser'):\n",
        "    # Process the text\n",
        "    doc = nlp(text)\n",
        "    # Print the entities in the doc\n",
        "    print(doc.ents)"
      ],
      "execution_count": 0,
      "outputs": [
        {
          "output_type": "stream",
          "text": [
            "(American, College Park, Georgia)\n"
          ],
          "name": "stdout"
        }
      ]
    },
    {
      "cell_type": "markdown",
      "metadata": {
        "id": "LoK8--FbJLu7",
        "colab_type": "text"
      },
      "source": [
        "# Chapter 4 Training a neural network model"
      ]
    },
    {
      "cell_type": "markdown",
      "metadata": {
        "id": "SbUhKPWnYIsb",
        "colab_type": "text"
      },
      "source": [
        "https://campus.datacamp.com/courses/advanced-nlp-with-spacy/training-a-neural-network-model\n",
        "\n",
        "<img src=\"https://github.com/Nov05/pictures/blob/master/pic001/2019-09-05%2011_02_16-Training%20and%20updating%20models%20_%20Python.png?raw=true\" width=700>  \n",
        "\n",
        "<img src=\"https://github.com/Nov05/pictures/blob/master/pic001/2019-09-05%2011_03_31-Training%20and%20updating%20models%20_%20Python.png?raw=true\" width=700>  "
      ]
    },
    {
      "cell_type": "markdown",
      "metadata": {
        "id": "1g3MScZoZ4H4",
        "colab_type": "text"
      },
      "source": [
        "### Creating training data (1)\n",
        "\n",
        "spaCy's rule-based Matcher is a great way to quickly create training data for named entity models. A list of sentences is available as the variable TEXTS. You can print it the IPython shell to inspect it. We want to find all mentions of different iPhone models, so we can create training data to teach a model to recognize them as 'GADGET'.\n",
        "\n",
        "The nlp object has already been created for you and the Matcher is available as the variable matcher."
      ]
    },
    {
      "cell_type": "code",
      "metadata": {
        "id": "ekNWH0YaaDdM",
        "colab_type": "code",
        "colab": {}
      },
      "source": [
        "import spacy\n",
        "from spacy.matcher import Matcher\n",
        "\n",
        "nlp = spacy.load(\"en\")\n",
        "matcher = Matcher(nlp.vocab)\n",
        "\n",
        "TEXTS = ['How to preorder the iPhone X', 'iPhone X is coming', 'Should I pay $1,000 for the iPhone X?', 'The iPhone 8 reviews are here', 'Your iPhone goes up to 11 today', 'I need a new phone! Any tips?']\n",
        "\n",
        "# Two tokens whose lowercase forms match 'iphone' and 'x'\n",
        "pattern1 = [{'LOWER': 'iphone'}, {'LOWER': 'x'}]\n",
        "\n",
        "# Token whose lowercase form matches 'iphone' and an optional digit\n",
        "pattern2 = [{'LOWER': 'iphone'}, {'IS_DIGIT': True, 'OP': '?'}]\n",
        "\n",
        "# Add patterns to the matcher\n",
        "matcher.add('GADGET', None, pattern1, pattern2)"
      ],
      "execution_count": 0,
      "outputs": []
    },
    {
      "cell_type": "markdown",
      "metadata": {
        "id": "3u0F70tmWD2f",
        "colab_type": "text"
      },
      "source": [
        "### Creating training data (2)\n",
        "\n",
        "Let's use the match patterns we've created in the previous exercise to bootstrap a set of training examples. The nlp object has already been created for you and the Matcher with the added patterns pattern1 and pattern2 is available as the variable matcher. A list of sentences is available as the variable TEXTS."
      ]
    },
    {
      "cell_type": "code",
      "metadata": {
        "id": "jnPdCukIWG_V",
        "colab_type": "code",
        "colab": {
          "base_uri": "https://localhost:8080/",
          "height": 123
        },
        "outputId": "928206b7-f824-4778-8447-344499089b06"
      },
      "source": [
        "# Create a Doc object for each text in TEXTS\n",
        "for doc in nlp.pipe(TEXTS):\n",
        "    # Find the matches in the doc\n",
        "    matches = matcher(doc)\n",
        "    \n",
        "    # Get a list of (start, end, label) tuples of matches in the text\n",
        "    entities = [(start, end, 'GADGET') for match_id, start, end in matches]\n",
        "    print(doc.text, entities)   "
      ],
      "execution_count": 2,
      "outputs": [
        {
          "output_type": "stream",
          "text": [
            "How to preorder the iPhone X [(4, 6, 'GADGET'), (4, 5, 'GADGET')]\n",
            "iPhone X is coming [(0, 2, 'GADGET'), (0, 1, 'GADGET')]\n",
            "Should I pay $1,000 for the iPhone X? [(7, 9, 'GADGET'), (7, 8, 'GADGET')]\n",
            "The iPhone 8 reviews are here [(1, 3, 'GADGET')]\n",
            "Your iPhone goes up to 11 today [(1, 2, 'GADGET')]\n",
            "I need a new phone! Any tips? []\n"
          ],
          "name": "stdout"
        }
      ]
    },
    {
      "cell_type": "code",
      "metadata": {
        "id": "mOCyJTsZsXlf",
        "colab_type": "code",
        "colab": {
          "base_uri": "https://localhost:8080/",
          "height": 123
        },
        "outputId": "471104d3-3426-4a2d-c930-1b8aace81d5b"
      },
      "source": [
        "TRAINING_DATA = []\n",
        "\n",
        "# Create a Doc object for each text in TEXTS\n",
        "for doc in nlp.pipe(TEXTS):\n",
        "    # Match on the doc and create a list of matched spans\n",
        "    spans = [doc[start:end] for match_id, start, end in matcher(doc)]\n",
        "    # Get (start character, end character, label) tuples of matches\n",
        "    entities = [(span.start_char, span.end_char, 'GADGET') for span in spans]\n",
        "    \n",
        "    # Format the matches as a (doc.text, entities) tuple\n",
        "    training_example = (doc.text, {'entities': entities})\n",
        "    # Append the example to the training data\n",
        "    TRAINING_DATA.append(training_example)\n",
        "    \n",
        "print(*TRAINING_DATA, sep='\\n')    "
      ],
      "execution_count": 3,
      "outputs": [
        {
          "output_type": "stream",
          "text": [
            "('How to preorder the iPhone X', {'entities': [(20, 28, 'GADGET'), (20, 26, 'GADGET')]})\n",
            "('iPhone X is coming', {'entities': [(0, 8, 'GADGET'), (0, 6, 'GADGET')]})\n",
            "('Should I pay $1,000 for the iPhone X?', {'entities': [(28, 36, 'GADGET'), (28, 34, 'GADGET')]})\n",
            "('The iPhone 8 reviews are here', {'entities': [(4, 12, 'GADGET')]})\n",
            "('Your iPhone goes up to 11 today', {'entities': [(5, 11, 'GADGET')]})\n",
            "('I need a new phone! Any tips?', {'entities': []})\n"
          ],
          "name": "stdout"
        }
      ]
    },
    {
      "cell_type": "markdown",
      "metadata": {
        "id": "yvjHEOXoxDu7",
        "colab_type": "text"
      },
      "source": [
        "### Setting up the pipeline\n",
        "\n",
        "In this exercise, you'll prepare a spaCy pipeline to train the entity recognizer to recognize 'GADGET' entities in a text – for exampe, \"iPhone X\".\n",
        "\n",
        "spacy has already been imported for you."
      ]
    },
    {
      "cell_type": "code",
      "metadata": {
        "id": "jnhdf-LyswPC",
        "colab_type": "code",
        "colab": {}
      },
      "source": [
        "# Create a blank 'en' model\n",
        "nlp = spacy.blank('en')\n",
        "\n",
        "# Create a new entity recognizer and add it to the pipeline\n",
        "ner = nlp.create_pipe('ner')\n",
        "nlp.add_pipe(ner)\n",
        "\n",
        "# Add the label 'GADGET' to the entity recognizer\n",
        "ner.add_label('GADGET')"
      ],
      "execution_count": 0,
      "outputs": []
    },
    {
      "cell_type": "markdown",
      "metadata": {
        "id": "By9PnijaxhYN",
        "colab_type": "text"
      },
      "source": [
        "### Building a training loop\n",
        "\n",
        "Let's write a simple training loop from scratch!\n",
        "\n",
        "The pipeline you've created in the previous exercise is available as the nlp object. It already contains the entity recognizer with the added label 'GADGET'.\n",
        "\n",
        "The small set of labelled examples that you've created previously is available as the global variable TRAINING_DATA. To see the examples, you can print them in your script or in the IPython shell. spacy and random have already been imported for you.\n",
        "\n",
        "https://spacy.io/usage/training  "
      ]
    },
    {
      "cell_type": "code",
      "metadata": {
        "id": "i8UmM2HrN1pN",
        "colab_type": "code",
        "colab": {
          "base_uri": "https://localhost:8080/",
          "height": 545
        },
        "outputId": "5711999e-2be1-4a44-acc2-db6c8a235ccf"
      },
      "source": [
        "import random\n",
        "\n",
        "# Start the training\n",
        "nlp.begin_training()\n",
        "\n",
        "# Loop for 10 iterations\n",
        "for _ in range(10):\n",
        "    # Shuffle the training data\n",
        "    random.shuffle(TRAINING_DATA)\n",
        "    losses = {}\n",
        "    \n",
        "    # Batch the examples and iterate over them\n",
        "    for batch in spacy.util.minibatch(TRAINING_DATA, size=2):\n",
        "        texts = [text for text, entities in batch]\n",
        "        annotations = [entities for text, entities in batch]\n",
        "        \n",
        "        # Update the model\n",
        "        nlp.update(texts, annotations, losses=losses)\n",
        "        print(losses)"
      ],
      "execution_count": 6,
      "outputs": [
        {
          "output_type": "stream",
          "text": [
            "{'ner': 12.799999833106995}\n",
            "{'ner': 22.62033760547638}\n",
            "{'ner': 31.37745213508606}\n",
            "{'ner': 7.390446305274963}\n",
            "{'ner': 14.685979008674622}\n",
            "{'ner': 17.979356802999973}\n",
            "{'ner': 3.0174092315137386}\n",
            "{'ner': 5.632750133052468}\n",
            "{'ner': 7.054906503180973}\n",
            "{'ner': 2.0204344572266564}\n",
            "{'ner': 3.6098905656835996}\n",
            "{'ner': 4.259144423149337}\n",
            "{'ner': 8.12908892147243}\n",
            "{'ner': 8.641249991447467}\n",
            "{'ner': 9.670286927652114}\n",
            "{'ner': 2.795522013795562}\n",
            "{'ner': 3.085232082641596}\n",
            "{'ner': 3.208198636295023}\n",
            "{'ner': 2.7909661686280742}\n",
            "{'ner': 2.836899621754128}\n",
            "{'ner': 2.841799881201805}\n",
            "{'ner': 0.00026396877953516196}\n",
            "{'ner': 0.0005914857383970684}\n",
            "{'ner': 2.0542683911835695}\n",
            "{'ner': 1.890798735360022e-05}\n",
            "{'ner': 1.7045876920006577}\n",
            "{'ner': 1.7045992513600197}\n",
            "{'ner': 2.1733724769879004e-06}\n",
            "{'ner': 0.8742895384099659}\n",
            "{'ner': 0.8742898585974509}\n"
          ],
          "name": "stdout"
        }
      ]
    },
    {
      "cell_type": "markdown",
      "metadata": {
        "id": "lq8FUx8fOym-",
        "colab_type": "text"
      },
      "source": [
        "### Exploring the model\n",
        "\n",
        "Let's see how the model performs on unseen data! To speed things up a little, here's a trained model for the label 'GADGET', using the examples from the previous exercise, plus a few hundred more. The loaded model is already available as the nlp object. A list of test texts is available as TEST_DATA.   "
      ]
    },
    {
      "cell_type": "code",
      "metadata": {
        "id": "Ea9wnEI7O1s8",
        "colab_type": "code",
        "colab": {
          "base_uri": "https://localhost:8080/",
          "height": 263
        },
        "outputId": "cadfe434-1b87-4c1d-c23f-e2e67218d87e"
      },
      "source": [
        "TEST_DATA = ['Apple is slowing down the iPhone 8 and iPhone X - how to stop it', \"I finally understand what the iPhone X 'notch' is for\", 'Everything you need to know about the Samsung Galaxy S9', 'Looking to compare iPad models? Here’s how the 2018 lineup stacks up', 'The iPhone 8 and iPhone 8 Plus are smartphones designed, developed, and marketed by Apple', 'what is the cheapest ipad, especially ipad pro???', 'Samsung Galaxy is a series of mobile computing devices designed, manufactured and marketed by Samsung Electronics']\n",
        "# Process each text in TEST_DATA\n",
        "for doc in nlp.pipe(TEST_DATA):\n",
        "    # Print the document text and entitites\n",
        "    print(doc.text)\n",
        "    print(doc.ents)"
      ],
      "execution_count": 8,
      "outputs": [
        {
          "output_type": "stream",
          "text": [
            "Apple is slowing down the iPhone 8 and iPhone X - how to stop it\n",
            "(iPhone, iPhone)\n",
            "I finally understand what the iPhone X 'notch' is for\n",
            "(iPhone,)\n",
            "Everything you need to know about the Samsung Galaxy S9\n",
            "(Samsung,)\n",
            "Looking to compare iPad models? Here’s how the 2018 lineup stacks up\n",
            "()\n",
            "The iPhone 8 and iPhone 8 Plus are smartphones designed, developed, and marketed by Apple\n",
            "(iPhone 8, iPhone)\n",
            "what is the cheapest ipad, especially ipad pro???\n",
            "()\n",
            "Samsung Galaxy is a series of mobile computing devices designed, manufactured and marketed by Samsung Electronics\n",
            "()\n"
          ],
          "name": "stdout"
        }
      ]
    },
    {
      "cell_type": "markdown",
      "metadata": {
        "id": "1UAcKxcxprUS",
        "colab_type": "text"
      },
      "source": [
        "Out of all the entities in the texts, how many did the model get correct? Keep in mind that incomplete entity spans count as mistakes, too! 【70%】"
      ]
    },
    {
      "cell_type": "markdown",
      "metadata": {
        "id": "eDLG4kgEuDUU",
        "colab_type": "text"
      },
      "source": [
        "### Good data vs. bad data  \n",
        "\n",
        "Here's an excerpt from a training set that labels the entity type TOURIST_DESTINATION in traveler reviews.\n",
        "\n",
        "```\n",
        "('i went to amsterdem last year and the canals were beautiful', {'entities': [(10, 19, 'TOURIST_DESTINATION')]})\n",
        "('You should visit Paris once in your life, but the Eiffel Tower is kinda boring', {'entities': [(17, 22, 'TOURIST_DESTINATION')]})\n",
        "\n",
        "(\"There's also a Paris in Arkansas, lol\", {'entities': []})\n",
        "\n",
        "('Berlin is perfect for summer holiday: lots of parks, great nightlife, cheap beer!', {'entities': [(0, 6, 'TOURIST_DESTINATION')]})\n",
        "```\n",
        "\n",
        "**Question**  \n",
        "Why is this data and label scheme problematic?\n",
        "\n",
        "**Possible Answers**   \n",
        "【Whether a place is a tourist destination is a subjective judgement and not a definitive category. It will be very difficult for the entity recognizer to learn.】   \n",
        "\"Paris\" and \"Arkansas\" should also be labelled as tourist destinations for consistency. Otherwise, the model will be confused.   \n",
        "Rare out-of-vocabulary words like the misspelled \"amsterdem\" shouldn't be labelled as entities.   "
      ]
    },
    {
      "cell_type": "code",
      "metadata": {
        "id": "CpFa6wjru1GJ",
        "colab_type": "code",
        "colab": {
          "base_uri": "https://localhost:8080/",
          "height": 87
        },
        "outputId": "87a52feb-3003-4aab-cdcd-730a365f83d8"
      },
      "source": [
        "TRAINING_DATA = [\n",
        "    (\"i went to amsterdem last year and the canals were beautiful\", {'entities': [(10, 19, 'GPE')]}),\n",
        "    (\"You should visit Paris once in your life, but the Eiffel Tower is kinda boring\", {'entities': [(17, 22, 'GPE')]}),\n",
        "    (\"There's also a Paris in Arkansas, lol\", {'entities': [(15, 20, 'GPE'), (24, 32, 'GPE')]}),\n",
        "    (\"Berlin is perfect for summer holiday: lots of parks, great nightlife, cheap beer!\", {'entities': [(0, 6, 'GPE')]})\n",
        "]\n",
        "\n",
        "print(*TRAINING_DATA, sep='\\n')"
      ],
      "execution_count": 10,
      "outputs": [
        {
          "output_type": "stream",
          "text": [
            "('i went to amsterdem last year and the canals were beautiful', {'entities': [(10, 19, 'GPE')]})\n",
            "('You should visit Paris once in your life, but the Eiffel Tower is kinda boring', {'entities': [(17, 22, 'GPE')]})\n",
            "(\"There's also a Paris in Arkansas, lol\", {'entities': [(15, 20, 'GPE'), (24, 32, 'GPE')]})\n",
            "('Berlin is perfect for summer holiday: lots of parks, great nightlife, cheap beer!', {'entities': [(0, 6, 'GPE')]})\n"
          ],
          "name": "stdout"
        }
      ]
    },
    {
      "cell_type": "markdown",
      "metadata": {
        "id": "PE3pXhz7vzPQ",
        "colab_type": "text"
      },
      "source": [
        "### Training multiple labels\n",
        "\n",
        "Here's a small sample of a dataset created to train a new entity type WEBSITE. The original dataset contains a few thousand sentences. In this exercise, you'll be doing the labeling by hand. In real life, you probably want to automate this and use an annotation tool – for example, Brat, a popular open-source solution, or Prodigy, our own annotation tool that integrates with spaCy.\n",
        "\n",
        "After this exercise you will be nearly done with the course! If you enjoyed it, feel free to send Ines a thank you via Twitter - she'll appreciate it! Tweet to Ines   \n",
        "\n",
        "http://brat.nlplab.org/   \n",
        "https://prodi.gy/   "
      ]
    },
    {
      "cell_type": "code",
      "metadata": {
        "id": "iSvCRvwz3cNd",
        "colab_type": "code",
        "colab": {}
      },
      "source": [
        "TRAINING_DATA = [\n",
        "    (\"Reddit partners with Patreon to help creators build communities\", \n",
        "     {'entities': [(0, 6, 'WEBSITE'), (21, 28, 'WEBSITE')]}),\n",
        "  \n",
        "    (\"PewDiePie smashes YouTube record\", \n",
        "     {'entities': [(18, 25, 'WEBSITE')]}),\n",
        "  \n",
        "    (\"Reddit founder Alexis Ohanian gave away two Metallica tickets to fans\", \n",
        "     {'entities': [(0, 6, 'WEBSITE')]}),\n",
        "    # And so on...\n",
        "]"
      ],
      "execution_count": 0,
      "outputs": []
    },
    {
      "cell_type": "markdown",
      "metadata": {
        "id": "cwtHCOjd3kL-",
        "colab_type": "text"
      },
      "source": [
        "**Question**   \n",
        "A model was trained with the data you just labelled, plus a few thousand similar examples. After training, it's doing great on WEBSITE, but doesn't recognize PERSON anymore. Why could this be happening?\n",
        "\n",
        "**Possible Answers**   \n",
        "It's very difficult for the model to learn about different categories like PERSON and WEBSITE.   \n",
        "【The training data included no examples of PERSON, so the model learned that this label is incorrect.】    \n",
        "The hyperparameters need to be retuned so that both entity types can be recognized.   "
      ]
    },
    {
      "cell_type": "code",
      "metadata": {
        "id": "hkLJYeTg4ptG",
        "colab_type": "code",
        "colab": {}
      },
      "source": [
        "# better data\n",
        "TRAINING_DATA = [\n",
        "    (\"Reddit partners with Patreon to help creators build communities\", \n",
        "     {'entities': [(0, 6, 'WEBSITE'), (21, 28, 'WEBSITE')]}),\n",
        "  \n",
        "    (\"PewDiePie smashes YouTube record\", \n",
        "     {'entities': [(0, 9, 'PERSON'), (18, 25, 'WEBSITE')]}),\n",
        "  \n",
        "    (\"Reddit founder Alexis Ohanian gave away two Metallica tickets to fans\", \n",
        "     {'entities': [(0, 6, 'WEBSITE'), (15, 29, 'PERSON')]}),\n",
        "    # And so on...\n",
        "]"
      ],
      "execution_count": 0,
      "outputs": []
    }
  ]
}